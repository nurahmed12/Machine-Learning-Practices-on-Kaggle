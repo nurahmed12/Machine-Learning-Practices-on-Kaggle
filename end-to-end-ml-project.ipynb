{
 "cells": [
  {
   "cell_type": "code",
   "execution_count": 1,
   "id": "1b7367ee",
   "metadata": {
    "_cell_guid": "b1076dfc-b9ad-4769-8c92-a6c4dae69d19",
    "_uuid": "8f2839f25d086af736a60e9eeb907d3b93b6e0e5",
    "execution": {
     "iopub.execute_input": "2023-11-18T19:57:47.270150Z",
     "iopub.status.busy": "2023-11-18T19:57:47.269751Z",
     "iopub.status.idle": "2023-11-18T19:57:47.681878Z",
     "shell.execute_reply": "2023-11-18T19:57:47.680286Z"
    },
    "papermill": {
     "duration": 0.426115,
     "end_time": "2023-11-18T19:57:47.685022",
     "exception": false,
     "start_time": "2023-11-18T19:57:47.258907",
     "status": "completed"
    },
    "tags": []
   },
   "outputs": [
    {
     "name": "stdout",
     "output_type": "stream",
     "text": [
      "/kaggle/input/placement-dataset/placement.csv\n"
     ]
    }
   ],
   "source": [
    "# This Python 3 environment comes with many helpful analytics libraries installed\n",
    "# It is defined by the kaggle/python Docker image: https://github.com/kaggle/docker-python\n",
    "# For example, here's several helpful packages to load\n",
    "\n",
    "import numpy as np # linear algebra\n",
    "import pandas as pd # data processing, CSV file I/O (e.g. pd.read_csv)\n",
    "\n",
    "# Input data files are available in the read-only \"../input/\" directory\n",
    "# For example, running this (by clicking run or pressing Shift+Enter) will list all files under the input directory\n",
    "\n",
    "import os\n",
    "for dirname, _, filenames in os.walk('/kaggle/input'):\n",
    "    for filename in filenames:\n",
    "        print(os.path.join(dirname, filename))\n",
    "\n",
    "# You can write up to 20GB to the current directory (/kaggle/working/) that gets preserved as output when you create a version using \"Save & Run All\" \n",
    "# You can also write temporary files to /kaggle/temp/, but they won't be saved outside of the current session"
   ]
  },
  {
   "cell_type": "markdown",
   "id": "db999d3b",
   "metadata": {
    "papermill": {
     "duration": 0.00881,
     "end_time": "2023-11-18T19:57:47.703204",
     "exception": false,
     "start_time": "2023-11-18T19:57:47.694394",
     "status": "completed"
    },
    "tags": []
   },
   "source": [
    "# Steps\n",
    "\n",
    "1. Preprocess + EDA(Exploratory Data Analysis) + Feature Selection(Reduce Columns)\n",
    "2. Extract Input and Output Columns\n",
    "3. Scale The Values\n",
    "4. Train Test Split\n",
    "5. Train The Model\n",
    "6. Evaluate The Model/ Model Selection\n",
    "7. Deploy The Model"
   ]
  },
  {
   "cell_type": "markdown",
   "id": "522ae848",
   "metadata": {
    "papermill": {
     "duration": 0.00881,
     "end_time": "2023-11-18T19:57:47.721700",
     "exception": false,
     "start_time": "2023-11-18T19:57:47.712890",
     "status": "completed"
    },
    "tags": []
   },
   "source": [
    "# Importing Dataset"
   ]
  },
  {
   "cell_type": "code",
   "execution_count": 2,
   "id": "ed12d307",
   "metadata": {
    "execution": {
     "iopub.execute_input": "2023-11-18T19:57:47.742002Z",
     "iopub.status.busy": "2023-11-18T19:57:47.741317Z",
     "iopub.status.idle": "2023-11-18T19:57:47.760961Z",
     "shell.execute_reply": "2023-11-18T19:57:47.759871Z"
    },
    "papermill": {
     "duration": 0.032973,
     "end_time": "2023-11-18T19:57:47.763749",
     "exception": false,
     "start_time": "2023-11-18T19:57:47.730776",
     "status": "completed"
    },
    "tags": []
   },
   "outputs": [],
   "source": [
    "df = pd.read_csv('/kaggle/input/placement-dataset/placement.csv')"
   ]
  },
  {
   "cell_type": "code",
   "execution_count": 3,
   "id": "094aa155",
   "metadata": {
    "execution": {
     "iopub.execute_input": "2023-11-18T19:57:47.784115Z",
     "iopub.status.busy": "2023-11-18T19:57:47.783261Z",
     "iopub.status.idle": "2023-11-18T19:57:47.808333Z",
     "shell.execute_reply": "2023-11-18T19:57:47.807243Z"
    },
    "papermill": {
     "duration": 0.03798,
     "end_time": "2023-11-18T19:57:47.810710",
     "exception": false,
     "start_time": "2023-11-18T19:57:47.772730",
     "status": "completed"
    },
    "tags": []
   },
   "outputs": [
    {
     "data": {
      "text/html": [
       "<div>\n",
       "<style scoped>\n",
       "    .dataframe tbody tr th:only-of-type {\n",
       "        vertical-align: middle;\n",
       "    }\n",
       "\n",
       "    .dataframe tbody tr th {\n",
       "        vertical-align: top;\n",
       "    }\n",
       "\n",
       "    .dataframe thead th {\n",
       "        text-align: right;\n",
       "    }\n",
       "</style>\n",
       "<table border=\"1\" class=\"dataframe\">\n",
       "  <thead>\n",
       "    <tr style=\"text-align: right;\">\n",
       "      <th></th>\n",
       "      <th>Unnamed: 0</th>\n",
       "      <th>cgpa</th>\n",
       "      <th>iq</th>\n",
       "      <th>placement</th>\n",
       "    </tr>\n",
       "  </thead>\n",
       "  <tbody>\n",
       "    <tr>\n",
       "      <th>0</th>\n",
       "      <td>0</td>\n",
       "      <td>6.8</td>\n",
       "      <td>123.0</td>\n",
       "      <td>1</td>\n",
       "    </tr>\n",
       "    <tr>\n",
       "      <th>1</th>\n",
       "      <td>1</td>\n",
       "      <td>5.9</td>\n",
       "      <td>106.0</td>\n",
       "      <td>0</td>\n",
       "    </tr>\n",
       "    <tr>\n",
       "      <th>2</th>\n",
       "      <td>2</td>\n",
       "      <td>5.3</td>\n",
       "      <td>121.0</td>\n",
       "      <td>0</td>\n",
       "    </tr>\n",
       "    <tr>\n",
       "      <th>3</th>\n",
       "      <td>3</td>\n",
       "      <td>7.4</td>\n",
       "      <td>132.0</td>\n",
       "      <td>1</td>\n",
       "    </tr>\n",
       "    <tr>\n",
       "      <th>4</th>\n",
       "      <td>4</td>\n",
       "      <td>5.8</td>\n",
       "      <td>142.0</td>\n",
       "      <td>0</td>\n",
       "    </tr>\n",
       "  </tbody>\n",
       "</table>\n",
       "</div>"
      ],
      "text/plain": [
       "   Unnamed: 0  cgpa     iq  placement\n",
       "0           0   6.8  123.0          1\n",
       "1           1   5.9  106.0          0\n",
       "2           2   5.3  121.0          0\n",
       "3           3   7.4  132.0          1\n",
       "4           4   5.8  142.0          0"
      ]
     },
     "execution_count": 3,
     "metadata": {},
     "output_type": "execute_result"
    }
   ],
   "source": [
    "df.head()"
   ]
  },
  {
   "cell_type": "markdown",
   "id": "0d1a3400",
   "metadata": {
    "papermill": {
     "duration": 0.008547,
     "end_time": "2023-11-18T19:57:47.828256",
     "exception": false,
     "start_time": "2023-11-18T19:57:47.819709",
     "status": "completed"
    },
    "tags": []
   },
   "source": [
    "# Preprocess + EDA(Exploratory Data Analysis) + Feature Selection(Reduce Columns)"
   ]
  },
  {
   "cell_type": "code",
   "execution_count": 4,
   "id": "726516e3",
   "metadata": {
    "execution": {
     "iopub.execute_input": "2023-11-18T19:57:47.848590Z",
     "iopub.status.busy": "2023-11-18T19:57:47.848135Z",
     "iopub.status.idle": "2023-11-18T19:57:47.874108Z",
     "shell.execute_reply": "2023-11-18T19:57:47.872662Z"
    },
    "papermill": {
     "duration": 0.038876,
     "end_time": "2023-11-18T19:57:47.876391",
     "exception": false,
     "start_time": "2023-11-18T19:57:47.837515",
     "status": "completed"
    },
    "tags": []
   },
   "outputs": [
    {
     "name": "stdout",
     "output_type": "stream",
     "text": [
      "<class 'pandas.core.frame.DataFrame'>\n",
      "RangeIndex: 100 entries, 0 to 99\n",
      "Data columns (total 4 columns):\n",
      " #   Column      Non-Null Count  Dtype  \n",
      "---  ------      --------------  -----  \n",
      " 0   Unnamed: 0  100 non-null    int64  \n",
      " 1   cgpa        100 non-null    float64\n",
      " 2   iq          100 non-null    float64\n",
      " 3   placement   100 non-null    int64  \n",
      "dtypes: float64(2), int64(2)\n",
      "memory usage: 3.2 KB\n"
     ]
    }
   ],
   "source": [
    "df.info() #Let's see if there is any null value in this dataset"
   ]
  },
  {
   "cell_type": "code",
   "execution_count": 5,
   "id": "eb09cf78",
   "metadata": {
    "execution": {
     "iopub.execute_input": "2023-11-18T19:57:47.896710Z",
     "iopub.status.busy": "2023-11-18T19:57:47.895714Z",
     "iopub.status.idle": "2023-11-18T19:57:47.901828Z",
     "shell.execute_reply": "2023-11-18T19:57:47.901082Z"
    },
    "papermill": {
     "duration": 0.018235,
     "end_time": "2023-11-18T19:57:47.903713",
     "exception": false,
     "start_time": "2023-11-18T19:57:47.885478",
     "status": "completed"
    },
    "tags": []
   },
   "outputs": [
    {
     "data": {
      "text/plain": [
       "(100, 4)"
      ]
     },
     "execution_count": 5,
     "metadata": {},
     "output_type": "execute_result"
    }
   ],
   "source": [
    "df.shape"
   ]
  },
  {
   "cell_type": "code",
   "execution_count": 6,
   "id": "3ee89877",
   "metadata": {
    "execution": {
     "iopub.execute_input": "2023-11-18T19:57:47.926071Z",
     "iopub.status.busy": "2023-11-18T19:57:47.925089Z",
     "iopub.status.idle": "2023-11-18T19:57:47.932224Z",
     "shell.execute_reply": "2023-11-18T19:57:47.931490Z"
    },
    "papermill": {
     "duration": 0.019732,
     "end_time": "2023-11-18T19:57:47.934299",
     "exception": false,
     "start_time": "2023-11-18T19:57:47.914567",
     "status": "completed"
    },
    "tags": []
   },
   "outputs": [],
   "source": [
    "df = df.iloc[: , 1:]  #Removing the unnecessary index column ([: , 1:] means selecting all the rows and all the columns except 0th column)"
   ]
  },
  {
   "cell_type": "code",
   "execution_count": 7,
   "id": "1bdc9ffa",
   "metadata": {
    "execution": {
     "iopub.execute_input": "2023-11-18T19:57:47.954694Z",
     "iopub.status.busy": "2023-11-18T19:57:47.953971Z",
     "iopub.status.idle": "2023-11-18T19:57:47.964162Z",
     "shell.execute_reply": "2023-11-18T19:57:47.963180Z"
    },
    "papermill": {
     "duration": 0.022732,
     "end_time": "2023-11-18T19:57:47.966190",
     "exception": false,
     "start_time": "2023-11-18T19:57:47.943458",
     "status": "completed"
    },
    "tags": []
   },
   "outputs": [
    {
     "data": {
      "text/html": [
       "<div>\n",
       "<style scoped>\n",
       "    .dataframe tbody tr th:only-of-type {\n",
       "        vertical-align: middle;\n",
       "    }\n",
       "\n",
       "    .dataframe tbody tr th {\n",
       "        vertical-align: top;\n",
       "    }\n",
       "\n",
       "    .dataframe thead th {\n",
       "        text-align: right;\n",
       "    }\n",
       "</style>\n",
       "<table border=\"1\" class=\"dataframe\">\n",
       "  <thead>\n",
       "    <tr style=\"text-align: right;\">\n",
       "      <th></th>\n",
       "      <th>cgpa</th>\n",
       "      <th>iq</th>\n",
       "      <th>placement</th>\n",
       "    </tr>\n",
       "  </thead>\n",
       "  <tbody>\n",
       "    <tr>\n",
       "      <th>0</th>\n",
       "      <td>6.8</td>\n",
       "      <td>123.0</td>\n",
       "      <td>1</td>\n",
       "    </tr>\n",
       "    <tr>\n",
       "      <th>1</th>\n",
       "      <td>5.9</td>\n",
       "      <td>106.0</td>\n",
       "      <td>0</td>\n",
       "    </tr>\n",
       "    <tr>\n",
       "      <th>2</th>\n",
       "      <td>5.3</td>\n",
       "      <td>121.0</td>\n",
       "      <td>0</td>\n",
       "    </tr>\n",
       "    <tr>\n",
       "      <th>3</th>\n",
       "      <td>7.4</td>\n",
       "      <td>132.0</td>\n",
       "      <td>1</td>\n",
       "    </tr>\n",
       "    <tr>\n",
       "      <th>4</th>\n",
       "      <td>5.8</td>\n",
       "      <td>142.0</td>\n",
       "      <td>0</td>\n",
       "    </tr>\n",
       "  </tbody>\n",
       "</table>\n",
       "</div>"
      ],
      "text/plain": [
       "   cgpa     iq  placement\n",
       "0   6.8  123.0          1\n",
       "1   5.9  106.0          0\n",
       "2   5.3  121.0          0\n",
       "3   7.4  132.0          1\n",
       "4   5.8  142.0          0"
      ]
     },
     "execution_count": 7,
     "metadata": {},
     "output_type": "execute_result"
    }
   ],
   "source": [
    "df.head()"
   ]
  },
  {
   "cell_type": "code",
   "execution_count": 8,
   "id": "585e404b",
   "metadata": {
    "execution": {
     "iopub.execute_input": "2023-11-18T19:57:47.987038Z",
     "iopub.status.busy": "2023-11-18T19:57:47.986293Z",
     "iopub.status.idle": "2023-11-18T19:57:47.990387Z",
     "shell.execute_reply": "2023-11-18T19:57:47.989587Z"
    },
    "papermill": {
     "duration": 0.01708,
     "end_time": "2023-11-18T19:57:47.992539",
     "exception": false,
     "start_time": "2023-11-18T19:57:47.975459",
     "status": "completed"
    },
    "tags": []
   },
   "outputs": [],
   "source": [
    "import matplotlib.pyplot as plt"
   ]
  },
  {
   "cell_type": "code",
   "execution_count": 9,
   "id": "74bb209b",
   "metadata": {
    "execution": {
     "iopub.execute_input": "2023-11-18T19:57:48.014017Z",
     "iopub.status.busy": "2023-11-18T19:57:48.013299Z",
     "iopub.status.idle": "2023-11-18T19:57:48.290340Z",
     "shell.execute_reply": "2023-11-18T19:57:48.289087Z"
    },
    "papermill": {
     "duration": 0.290815,
     "end_time": "2023-11-18T19:57:48.293025",
     "exception": false,
     "start_time": "2023-11-18T19:57:48.002210",
     "status": "completed"
    },
    "tags": []
   },
   "outputs": [
    {
     "data": {
      "text/plain": [
       "<matplotlib.collections.PathCollection at 0x7edba4434760>"
      ]
     },
     "execution_count": 9,
     "metadata": {},
     "output_type": "execute_result"
    },
    {
     "data": {
      "image/png": "[encoded data removed]",
      "text/plain": [
       "<Figure size 640x480 with 1 Axes>"
      ]
     },
     "metadata": {},
     "output_type": "display_data"
    }
   ],
   "source": [
    "plt.scatter(df['cgpa'], df['iq'], c = df['placement'])"
   ]
  },
  {
   "cell_type": "markdown",
   "id": "23e605a8",
   "metadata": {
    "papermill": {
     "duration": 0.009646,
     "end_time": "2023-11-18T19:57:48.312738",
     "exception": false,
     "start_time": "2023-11-18T19:57:48.303092",
     "status": "completed"
    },
    "tags": []
   },
   "source": [
    "# Extract Input and Output Columns"
   ]
  },
  {
   "cell_type": "code",
   "execution_count": 10,
   "id": "ec93b167",
   "metadata": {
    "execution": {
     "iopub.execute_input": "2023-11-18T19:57:48.334777Z",
     "iopub.status.busy": "2023-11-18T19:57:48.334355Z",
     "iopub.status.idle": "2023-11-18T19:57:48.339414Z",
     "shell.execute_reply": "2023-11-18T19:57:48.338504Z"
    },
    "papermill": {
     "duration": 0.018968,
     "end_time": "2023-11-18T19:57:48.341623",
     "exception": false,
     "start_time": "2023-11-18T19:57:48.322655",
     "status": "completed"
    },
    "tags": []
   },
   "outputs": [],
   "source": [
    "X = df.iloc[:, 0:2] # df['cgpa', 'iq']\n",
    "y = df.iloc[:, -1]"
   ]
  },
  {
   "cell_type": "code",
   "execution_count": 11,
   "id": "4d2526de",
   "metadata": {
    "execution": {
     "iopub.execute_input": "2023-11-18T19:57:48.363521Z",
     "iopub.status.busy": "2023-11-18T19:57:48.362906Z",
     "iopub.status.idle": "2023-11-18T19:57:48.374741Z",
     "shell.execute_reply": "2023-11-18T19:57:48.373959Z"
    },
    "papermill": {
     "duration": 0.025242,
     "end_time": "2023-11-18T19:57:48.376745",
     "exception": false,
     "start_time": "2023-11-18T19:57:48.351503",
     "status": "completed"
    },
    "tags": []
   },
   "outputs": [
    {
     "data": {
      "text/html": [
       "<div>\n",
       "<style scoped>\n",
       "    .dataframe tbody tr th:only-of-type {\n",
       "        vertical-align: middle;\n",
       "    }\n",
       "\n",
       "    .dataframe tbody tr th {\n",
       "        vertical-align: top;\n",
       "    }\n",
       "\n",
       "    .dataframe thead th {\n",
       "        text-align: right;\n",
       "    }\n",
       "</style>\n",
       "<table border=\"1\" class=\"dataframe\">\n",
       "  <thead>\n",
       "    <tr style=\"text-align: right;\">\n",
       "      <th></th>\n",
       "      <th>cgpa</th>\n",
       "      <th>iq</th>\n",
       "    </tr>\n",
       "  </thead>\n",
       "  <tbody>\n",
       "    <tr>\n",
       "      <th>0</th>\n",
       "      <td>6.8</td>\n",
       "      <td>123.0</td>\n",
       "    </tr>\n",
       "    <tr>\n",
       "      <th>1</th>\n",
       "      <td>5.9</td>\n",
       "      <td>106.0</td>\n",
       "    </tr>\n",
       "    <tr>\n",
       "      <th>2</th>\n",
       "      <td>5.3</td>\n",
       "      <td>121.0</td>\n",
       "    </tr>\n",
       "    <tr>\n",
       "      <th>3</th>\n",
       "      <td>7.4</td>\n",
       "      <td>132.0</td>\n",
       "    </tr>\n",
       "    <tr>\n",
       "      <th>4</th>\n",
       "      <td>5.8</td>\n",
       "      <td>142.0</td>\n",
       "    </tr>\n",
       "    <tr>\n",
       "      <th>...</th>\n",
       "      <td>...</td>\n",
       "      <td>...</td>\n",
       "    </tr>\n",
       "    <tr>\n",
       "      <th>95</th>\n",
       "      <td>4.3</td>\n",
       "      <td>200.0</td>\n",
       "    </tr>\n",
       "    <tr>\n",
       "      <th>96</th>\n",
       "      <td>4.4</td>\n",
       "      <td>42.0</td>\n",
       "    </tr>\n",
       "    <tr>\n",
       "      <th>97</th>\n",
       "      <td>6.7</td>\n",
       "      <td>182.0</td>\n",
       "    </tr>\n",
       "    <tr>\n",
       "      <th>98</th>\n",
       "      <td>6.3</td>\n",
       "      <td>103.0</td>\n",
       "    </tr>\n",
       "    <tr>\n",
       "      <th>99</th>\n",
       "      <td>6.2</td>\n",
       "      <td>113.0</td>\n",
       "    </tr>\n",
       "  </tbody>\n",
       "</table>\n",
       "<p>100 rows × 2 columns</p>\n",
       "</div>"
      ],
      "text/plain": [
       "    cgpa     iq\n",
       "0    6.8  123.0\n",
       "1    5.9  106.0\n",
       "2    5.3  121.0\n",
       "3    7.4  132.0\n",
       "4    5.8  142.0\n",
       "..   ...    ...\n",
       "95   4.3  200.0\n",
       "96   4.4   42.0\n",
       "97   6.7  182.0\n",
       "98   6.3  103.0\n",
       "99   6.2  113.0\n",
       "\n",
       "[100 rows x 2 columns]"
      ]
     },
     "execution_count": 11,
     "metadata": {},
     "output_type": "execute_result"
    }
   ],
   "source": [
    "X"
   ]
  },
  {
   "cell_type": "code",
   "execution_count": 12,
   "id": "e492b3c3",
   "metadata": {
    "execution": {
     "iopub.execute_input": "2023-11-18T19:57:48.398949Z",
     "iopub.status.busy": "2023-11-18T19:57:48.398352Z",
     "iopub.status.idle": "2023-11-18T19:57:48.405298Z",
     "shell.execute_reply": "2023-11-18T19:57:48.404220Z"
    },
    "papermill": {
     "duration": 0.020723,
     "end_time": "2023-11-18T19:57:48.407527",
     "exception": false,
     "start_time": "2023-11-18T19:57:48.386804",
     "status": "completed"
    },
    "tags": []
   },
   "outputs": [
    {
     "data": {
      "text/plain": [
       "0     1\n",
       "1     0\n",
       "2     0\n",
       "3     1\n",
       "4     0\n",
       "     ..\n",
       "95    0\n",
       "96    0\n",
       "97    1\n",
       "98    1\n",
       "99    1\n",
       "Name: placement, Length: 100, dtype: int64"
      ]
     },
     "execution_count": 12,
     "metadata": {},
     "output_type": "execute_result"
    }
   ],
   "source": [
    "y"
   ]
  },
  {
   "cell_type": "markdown",
   "id": "c70bb73b",
   "metadata": {
    "papermill": {
     "duration": 0.009978,
     "end_time": "2023-11-18T19:57:48.427917",
     "exception": false,
     "start_time": "2023-11-18T19:57:48.417939",
     "status": "completed"
    },
    "tags": []
   },
   "source": [
    "# Scale The Values"
   ]
  },
  {
   "cell_type": "code",
   "execution_count": 13,
   "id": "ce2f8a6d",
   "metadata": {
    "execution": {
     "iopub.execute_input": "2023-11-18T19:57:48.450663Z",
     "iopub.status.busy": "2023-11-18T19:57:48.450257Z",
     "iopub.status.idle": "2023-11-18T19:57:49.545117Z",
     "shell.execute_reply": "2023-11-18T19:57:49.544046Z"
    },
    "papermill": {
     "duration": 1.109165,
     "end_time": "2023-11-18T19:57:49.547540",
     "exception": false,
     "start_time": "2023-11-18T19:57:48.438375",
     "status": "completed"
    },
    "tags": []
   },
   "outputs": [],
   "source": [
    "from sklearn.preprocessing import StandardScaler"
   ]
  },
  {
   "cell_type": "code",
   "execution_count": 14,
   "id": "889d0c5f",
   "metadata": {
    "execution": {
     "iopub.execute_input": "2023-11-18T19:57:49.570698Z",
     "iopub.status.busy": "2023-11-18T19:57:49.570028Z",
     "iopub.status.idle": "2023-11-18T19:57:49.574411Z",
     "shell.execute_reply": "2023-11-18T19:57:49.573388Z"
    },
    "papermill": {
     "duration": 0.018614,
     "end_time": "2023-11-18T19:57:49.576675",
     "exception": false,
     "start_time": "2023-11-18T19:57:49.558061",
     "status": "completed"
    },
    "tags": []
   },
   "outputs": [],
   "source": [
    "scale = StandardScaler()"
   ]
  },
  {
   "cell_type": "code",
   "execution_count": 15,
   "id": "f10c2ab8",
   "metadata": {
    "execution": {
     "iopub.execute_input": "2023-11-18T19:57:49.659885Z",
     "iopub.status.busy": "2023-11-18T19:57:49.659118Z",
     "iopub.status.idle": "2023-11-18T19:57:49.668303Z",
     "shell.execute_reply": "2023-11-18T19:57:49.667087Z"
    },
    "papermill": {
     "duration": 0.083357,
     "end_time": "2023-11-18T19:57:49.670351",
     "exception": false,
     "start_time": "2023-11-18T19:57:49.586994",
     "status": "completed"
    },
    "tags": []
   },
   "outputs": [],
   "source": [
    "X = scale.fit_transform(X, y)"
   ]
  },
  {
   "cell_type": "code",
   "execution_count": 16,
   "id": "a0f20dc7",
   "metadata": {
    "execution": {
     "iopub.execute_input": "2023-11-18T19:57:49.693460Z",
     "iopub.status.busy": "2023-11-18T19:57:49.692442Z",
     "iopub.status.idle": "2023-11-18T19:57:49.697343Z",
     "shell.execute_reply": "2023-11-18T19:57:49.696515Z"
    },
    "papermill": {
     "duration": 0.018656,
     "end_time": "2023-11-18T19:57:49.699515",
     "exception": false,
     "start_time": "2023-11-18T19:57:49.680859",
     "status": "completed"
    },
    "tags": []
   },
   "outputs": [],
   "source": [
    "#X"
   ]
  },
  {
   "cell_type": "code",
   "execution_count": 17,
   "id": "f8aae6fd",
   "metadata": {
    "execution": {
     "iopub.execute_input": "2023-11-18T19:57:49.722655Z",
     "iopub.status.busy": "2023-11-18T19:57:49.721635Z",
     "iopub.status.idle": "2023-11-18T19:57:49.730472Z",
     "shell.execute_reply": "2023-11-18T19:57:49.729502Z"
    },
    "papermill": {
     "duration": 0.022626,
     "end_time": "2023-11-18T19:57:49.732521",
     "exception": false,
     "start_time": "2023-11-18T19:57:49.709895",
     "status": "completed"
    },
    "tags": []
   },
   "outputs": [
    {
     "data": {
      "text/plain": [
       "0     1\n",
       "1     0\n",
       "2     0\n",
       "3     1\n",
       "4     0\n",
       "     ..\n",
       "95    0\n",
       "96    0\n",
       "97    1\n",
       "98    1\n",
       "99    1\n",
       "Name: placement, Length: 100, dtype: int64"
      ]
     },
     "execution_count": 17,
     "metadata": {},
     "output_type": "execute_result"
    }
   ],
   "source": [
    "y"
   ]
  },
  {
   "cell_type": "markdown",
   "id": "599ae960",
   "metadata": {
    "papermill": {
     "duration": 0.010039,
     "end_time": "2023-11-18T19:57:49.753089",
     "exception": false,
     "start_time": "2023-11-18T19:57:49.743050",
     "status": "completed"
    },
    "tags": []
   },
   "source": [
    "# Train Test Split"
   ]
  },
  {
   "cell_type": "code",
   "execution_count": 18,
   "id": "abb3f8a0",
   "metadata": {
    "execution": {
     "iopub.execute_input": "2023-11-18T19:57:49.775953Z",
     "iopub.status.busy": "2023-11-18T19:57:49.775034Z",
     "iopub.status.idle": "2023-11-18T19:57:49.960550Z",
     "shell.execute_reply": "2023-11-18T19:57:49.959342Z"
    },
    "papermill": {
     "duration": 0.200002,
     "end_time": "2023-11-18T19:57:49.963469",
     "exception": false,
     "start_time": "2023-11-18T19:57:49.763467",
     "status": "completed"
    },
    "tags": []
   },
   "outputs": [],
   "source": [
    "from sklearn.model_selection import train_test_split"
   ]
  },
  {
   "cell_type": "code",
   "execution_count": 19,
   "id": "a6a19563",
   "metadata": {
    "execution": {
     "iopub.execute_input": "2023-11-18T19:57:49.987775Z",
     "iopub.status.busy": "2023-11-18T19:57:49.987267Z",
     "iopub.status.idle": "2023-11-18T19:57:49.995067Z",
     "shell.execute_reply": "2023-11-18T19:57:49.993768Z"
    },
    "papermill": {
     "duration": 0.02279,
     "end_time": "2023-11-18T19:57:49.997619",
     "exception": false,
     "start_time": "2023-11-18T19:57:49.974829",
     "status": "completed"
    },
    "tags": []
   },
   "outputs": [],
   "source": [
    "X_train, X_test, y_train, y_test = train_test_split(X, y, test_size = 0.1, random_state = 41)"
   ]
  },
  {
   "cell_type": "code",
   "execution_count": 20,
   "id": "9033bb36",
   "metadata": {
    "execution": {
     "iopub.execute_input": "2023-11-18T19:57:50.022718Z",
     "iopub.status.busy": "2023-11-18T19:57:50.021322Z",
     "iopub.status.idle": "2023-11-18T19:57:50.027236Z",
     "shell.execute_reply": "2023-11-18T19:57:50.026205Z"
    },
    "papermill": {
     "duration": 0.021071,
     "end_time": "2023-11-18T19:57:50.029920",
     "exception": false,
     "start_time": "2023-11-18T19:57:50.008849",
     "status": "completed"
    },
    "tags": []
   },
   "outputs": [],
   "source": [
    "# X_train"
   ]
  },
  {
   "cell_type": "markdown",
   "id": "33d6b1a3",
   "metadata": {
    "papermill": {
     "duration": 0.010641,
     "end_time": "2023-11-18T19:57:50.051740",
     "exception": false,
     "start_time": "2023-11-18T19:57:50.041099",
     "status": "completed"
    },
    "tags": []
   },
   "source": [
    "# Train The Model"
   ]
  },
  {
   "cell_type": "code",
   "execution_count": 21,
   "id": "315dd261",
   "metadata": {
    "execution": {
     "iopub.execute_input": "2023-11-18T19:57:50.076374Z",
     "iopub.status.busy": "2023-11-18T19:57:50.075460Z",
     "iopub.status.idle": "2023-11-18T19:57:50.165951Z",
     "shell.execute_reply": "2023-11-18T19:57:50.164627Z"
    },
    "papermill": {
     "duration": 0.105905,
     "end_time": "2023-11-18T19:57:50.168740",
     "exception": false,
     "start_time": "2023-11-18T19:57:50.062835",
     "status": "completed"
    },
    "tags": []
   },
   "outputs": [],
   "source": [
    "from sklearn.linear_model import LogisticRegression"
   ]
  },
  {
   "cell_type": "code",
   "execution_count": 22,
   "id": "dfd7b54b",
   "metadata": {
    "execution": {
     "iopub.execute_input": "2023-11-18T19:57:50.192906Z",
     "iopub.status.busy": "2023-11-18T19:57:50.191566Z",
     "iopub.status.idle": "2023-11-18T19:57:50.196845Z",
     "shell.execute_reply": "2023-11-18T19:57:50.196024Z"
    },
    "papermill": {
     "duration": 0.019487,
     "end_time": "2023-11-18T19:57:50.198966",
     "exception": false,
     "start_time": "2023-11-18T19:57:50.179479",
     "status": "completed"
    },
    "tags": []
   },
   "outputs": [],
   "source": [
    "clf = LogisticRegression()"
   ]
  },
  {
   "cell_type": "code",
   "execution_count": 23,
   "id": "f1557778",
   "metadata": {
    "execution": {
     "iopub.execute_input": "2023-11-18T19:57:50.222638Z",
     "iopub.status.busy": "2023-11-18T19:57:50.221903Z",
     "iopub.status.idle": "2023-11-18T19:57:50.238420Z",
     "shell.execute_reply": "2023-11-18T19:57:50.237337Z"
    },
    "papermill": {
     "duration": 0.030596,
     "end_time": "2023-11-18T19:57:50.240536",
     "exception": false,
     "start_time": "2023-11-18T19:57:50.209940",
     "status": "completed"
    },
    "tags": []
   },
   "outputs": [
    {
     "data": {
      "text/html": [
       "<style>#sk-container-id-1 {color: black;background-color: white;}#sk-container-id-1 pre{padding: 0;}#sk-container-id-1 div.sk-toggleable {background-color: white;}#sk-container-id-1 label.sk-toggleable__label {cursor: pointer;display: block;width: 100%;margin-bottom: 0;padding: 0.3em;box-sizing: border-box;text-align: center;}#sk-container-id-1 label.sk-toggleable__label-arrow:before {content: \"▸\";float: left;margin-right: 0.25em;color: #696969;}#sk-container-id-1 label.sk-toggleable__label-arrow:hover:before {color: black;}#sk-container-id-1 div.sk-estimator:hover label.sk-toggleable__label-arrow:before {color: black;}#sk-container-id-1 div.sk-toggleable__content {max-height: 0;max-width: 0;overflow: hidden;text-align: left;background-color: #f0f8ff;}#sk-container-id-1 div.sk-toggleable__content pre {margin: 0.2em;color: black;border-radius: 0.25em;background-color: #f0f8ff;}#sk-container-id-1 input.sk-toggleable__control:checked~div.sk-toggleable__content {max-height: 200px;max-width: 100%;overflow: auto;}#sk-container-id-1 input.sk-toggleable__control:checked~label.sk-toggleable__label-arrow:before {content: \"▾\";}#sk-container-id-1 div.sk-estimator input.sk-toggleable__control:checked~label.sk-toggleable__label {background-color: #d4ebff;}#sk-container-id-1 div.sk-label input.sk-toggleable__control:checked~label.sk-toggleable__label {background-color: #d4ebff;}#sk-container-id-1 input.sk-hidden--visually {border: 0;clip: rect(1px 1px 1px 1px);clip: rect(1px, 1px, 1px, 1px);height: 1px;margin: -1px;overflow: hidden;padding: 0;position: absolute;width: 1px;}#sk-container-id-1 div.sk-estimator {font-family: monospace;background-color: #f0f8ff;border: 1px dotted black;border-radius: 0.25em;box-sizing: border-box;margin-bottom: 0.5em;}#sk-container-id-1 div.sk-estimator:hover {background-color: #d4ebff;}#sk-container-id-1 div.sk-parallel-item::after {content: \"\";width: 100%;border-bottom: 1px solid gray;flex-grow: 1;}#sk-container-id-1 div.sk-label:hover label.sk-toggleable__label {background-color: #d4ebff;}#sk-container-id-1 div.sk-serial::before {content: \"\";position: absolute;border-left: 1px solid gray;box-sizing: border-box;top: 0;bottom: 0;left: 50%;z-index: 0;}#sk-container-id-1 div.sk-serial {display: flex;flex-direction: column;align-items: center;background-color: white;padding-right: 0.2em;padding-left: 0.2em;position: relative;}#sk-container-id-1 div.sk-item {position: relative;z-index: 1;}#sk-container-id-1 div.sk-parallel {display: flex;align-items: stretch;justify-content: center;background-color: white;position: relative;}#sk-container-id-1 div.sk-item::before, #sk-container-id-1 div.sk-parallel-item::before {content: \"\";position: absolute;border-left: 1px solid gray;box-sizing: border-box;top: 0;bottom: 0;left: 50%;z-index: -1;}#sk-container-id-1 div.sk-parallel-item {display: flex;flex-direction: column;z-index: 1;position: relative;background-color: white;}#sk-container-id-1 div.sk-parallel-item:first-child::after {align-self: flex-end;width: 50%;}#sk-container-id-1 div.sk-parallel-item:last-child::after {align-self: flex-start;width: 50%;}#sk-container-id-1 div.sk-parallel-item:only-child::after {width: 0;}#sk-container-id-1 div.sk-dashed-wrapped {border: 1px dashed gray;margin: 0 0.4em 0.5em 0.4em;box-sizing: border-box;padding-bottom: 0.4em;background-color: white;}#sk-container-id-1 div.sk-label label {font-family: monospace;font-weight: bold;display: inline-block;line-height: 1.2em;}#sk-container-id-1 div.sk-label-container {text-align: center;}#sk-container-id-1 div.sk-container {/* jupyter's `normalize.less` sets `[hidden] { display: none; }` but bootstrap.min.css set `[hidden] { display: none !important; }` so we also need the `!important` here to be able to override the default hidden behavior on the sphinx rendered scikit-learn.org. See: https://github.com/scikit-learn/scikit-learn/issues/21755 */display: inline-block !important;position: relative;}#sk-container-id-1 div.sk-text-repr-fallback {display: none;}</style><div id=\"sk-container-id-1\" class=\"sk-top-container\"><div class=\"sk-text-repr-fallback\"><pre>LogisticRegression()</pre><b>In a Jupyter environment, please rerun this cell to show the HTML representation or trust the notebook. <br />On GitHub, the HTML representation is unable to render, please try loading this page with nbviewer.org.</b></div><div class=\"sk-container\" hidden><div class=\"sk-item\"><div class=\"sk-estimator sk-toggleable\"><input class=\"sk-toggleable__control sk-hidden--visually\" id=\"sk-estimator-id-1\" type=\"checkbox\" checked><label for=\"sk-estimator-id-1\" class=\"sk-toggleable__label sk-toggleable__label-arrow\">LogisticRegression</label><div class=\"sk-toggleable__content\"><pre>LogisticRegression()</pre></div></div></div></div></div>"
      ],
      "text/plain": [
       "LogisticRegression()"
      ]
     },
     "execution_count": 23,
     "metadata": {},
     "output_type": "execute_result"
    }
   ],
   "source": [
    "clf.fit(X_train, y_train)"
   ]
  },
  {
   "cell_type": "markdown",
   "id": "076ebca7",
   "metadata": {
    "papermill": {
     "duration": 0.01078,
     "end_time": "2023-11-18T19:57:50.262131",
     "exception": false,
     "start_time": "2023-11-18T19:57:50.251351",
     "status": "completed"
    },
    "tags": []
   },
   "source": [
    "# Evaluate The Model/ Model Selection"
   ]
  },
  {
   "cell_type": "code",
   "execution_count": 24,
   "id": "e44da95c",
   "metadata": {
    "execution": {
     "iopub.execute_input": "2023-11-18T19:57:50.285319Z",
     "iopub.status.busy": "2023-11-18T19:57:50.284812Z",
     "iopub.status.idle": "2023-11-18T19:57:50.290237Z",
     "shell.execute_reply": "2023-11-18T19:57:50.289162Z"
    },
    "papermill": {
     "duration": 0.019553,
     "end_time": "2023-11-18T19:57:50.292355",
     "exception": false,
     "start_time": "2023-11-18T19:57:50.272802",
     "status": "completed"
    },
    "tags": []
   },
   "outputs": [],
   "source": [
    "y_pred = clf.predict(X_test)"
   ]
  },
  {
   "cell_type": "code",
   "execution_count": 25,
   "id": "891586ba",
   "metadata": {
    "execution": {
     "iopub.execute_input": "2023-11-18T19:57:50.316276Z",
     "iopub.status.busy": "2023-11-18T19:57:50.315836Z",
     "iopub.status.idle": "2023-11-18T19:57:50.322362Z",
     "shell.execute_reply": "2023-11-18T19:57:50.321582Z"
    },
    "papermill": {
     "duration": 0.021063,
     "end_time": "2023-11-18T19:57:50.324605",
     "exception": false,
     "start_time": "2023-11-18T19:57:50.303542",
     "status": "completed"
    },
    "tags": []
   },
   "outputs": [
    {
     "data": {
      "text/plain": [
       "42    1\n",
       "94    0\n",
       "37    1\n",
       "6     0\n",
       "79    1\n",
       "32    1\n",
       "24    0\n",
       "0     1\n",
       "33    0\n",
       "93    1\n",
       "Name: placement, dtype: int64"
      ]
     },
     "execution_count": 25,
     "metadata": {},
     "output_type": "execute_result"
    }
   ],
   "source": [
    "y_test"
   ]
  },
  {
   "cell_type": "code",
   "execution_count": 26,
   "id": "1b7189fc",
   "metadata": {
    "execution": {
     "iopub.execute_input": "2023-11-18T19:57:50.349405Z",
     "iopub.status.busy": "2023-11-18T19:57:50.348593Z",
     "iopub.status.idle": "2023-11-18T19:57:50.353021Z",
     "shell.execute_reply": "2023-11-18T19:57:50.352182Z"
    },
    "papermill": {
     "duration": 0.018781,
     "end_time": "2023-11-18T19:57:50.354981",
     "exception": false,
     "start_time": "2023-11-18T19:57:50.336200",
     "status": "completed"
    },
    "tags": []
   },
   "outputs": [],
   "source": [
    "from sklearn.metrics import accuracy_score"
   ]
  },
  {
   "cell_type": "code",
   "execution_count": 27,
   "id": "ee7944b9",
   "metadata": {
    "execution": {
     "iopub.execute_input": "2023-11-18T19:57:50.378750Z",
     "iopub.status.busy": "2023-11-18T19:57:50.378292Z",
     "iopub.status.idle": "2023-11-18T19:57:50.384534Z",
     "shell.execute_reply": "2023-11-18T19:57:50.383417Z"
    },
    "papermill": {
     "duration": 0.020842,
     "end_time": "2023-11-18T19:57:50.386796",
     "exception": false,
     "start_time": "2023-11-18T19:57:50.365954",
     "status": "completed"
    },
    "tags": []
   },
   "outputs": [],
   "source": [
    "accurary = accuracy_score(y_test, y_pred)"
   ]
  },
  {
   "cell_type": "code",
   "execution_count": 28,
   "id": "6cf83f9f",
   "metadata": {
    "execution": {
     "iopub.execute_input": "2023-11-18T19:57:50.411027Z",
     "iopub.status.busy": "2023-11-18T19:57:50.410015Z",
     "iopub.status.idle": "2023-11-18T19:57:50.415893Z",
     "shell.execute_reply": "2023-11-18T19:57:50.414736Z"
    },
    "papermill": {
     "duration": 0.020095,
     "end_time": "2023-11-18T19:57:50.417937",
     "exception": false,
     "start_time": "2023-11-18T19:57:50.397842",
     "status": "completed"
    },
    "tags": []
   },
   "outputs": [
    {
     "name": "stdout",
     "output_type": "stream",
     "text": [
      "90.0 %\n"
     ]
    }
   ],
   "source": [
    "print(accurary * 100, '%')"
   ]
  },
  {
   "cell_type": "code",
   "execution_count": 29,
   "id": "c5693fba",
   "metadata": {
    "execution": {
     "iopub.execute_input": "2023-11-18T19:57:50.442433Z",
     "iopub.status.busy": "2023-11-18T19:57:50.441189Z",
     "iopub.status.idle": "2023-11-18T19:57:50.482828Z",
     "shell.execute_reply": "2023-11-18T19:57:50.481782Z"
    },
    "papermill": {
     "duration": 0.056855,
     "end_time": "2023-11-18T19:57:50.485841",
     "exception": false,
     "start_time": "2023-11-18T19:57:50.428986",
     "status": "completed"
    },
    "tags": []
   },
   "outputs": [],
   "source": [
    "from mlxtend.plotting import plot_decision_regions"
   ]
  },
  {
   "cell_type": "code",
   "execution_count": 30,
   "id": "8216ee85",
   "metadata": {
    "execution": {
     "iopub.execute_input": "2023-11-18T19:57:50.510294Z",
     "iopub.status.busy": "2023-11-18T19:57:50.509863Z",
     "iopub.status.idle": "2023-11-18T19:57:50.939622Z",
     "shell.execute_reply": "2023-11-18T19:57:50.938502Z"
    },
    "papermill": {
     "duration": 0.444859,
     "end_time": "2023-11-18T19:57:50.942082",
     "exception": false,
     "start_time": "2023-11-18T19:57:50.497223",
     "status": "completed"
    },
    "tags": []
   },
   "outputs": [
    {
     "data": {
      "text/plain": [
       "<Axes: >"
      ]
     },
     "execution_count": 30,
     "metadata": {},
     "output_type": "execute_result"
    },
    {
     "data": {
      "image/png": "[encoded data removed]",
      "text/plain": [
       "<Figure size 640x480 with 1 Axes>"
      ]
     },
     "metadata": {},
     "output_type": "display_data"
    }
   ],
   "source": [
    "plot_decision_regions(X_train, y_train.values, clf = clf, legend = 2)"
   ]
  },
  {
   "cell_type": "markdown",
   "id": "eea2cf88",
   "metadata": {
    "papermill": {
     "duration": 0.011149,
     "end_time": "2023-11-18T19:57:50.964844",
     "exception": false,
     "start_time": "2023-11-18T19:57:50.953695",
     "status": "completed"
    },
    "tags": []
   },
   "source": [
    "# Storing The Model"
   ]
  },
  {
   "cell_type": "code",
   "execution_count": 31,
   "id": "14a3fa4a",
   "metadata": {
    "execution": {
     "iopub.execute_input": "2023-11-18T19:57:50.990473Z",
     "iopub.status.busy": "2023-11-18T19:57:50.989256Z",
     "iopub.status.idle": "2023-11-18T19:57:50.993969Z",
     "shell.execute_reply": "2023-11-18T19:57:50.993199Z"
    },
    "papermill": {
     "duration": 0.019471,
     "end_time": "2023-11-18T19:57:50.996102",
     "exception": false,
     "start_time": "2023-11-18T19:57:50.976631",
     "status": "completed"
    },
    "tags": []
   },
   "outputs": [],
   "source": [
    "import pickle"
   ]
  },
  {
   "cell_type": "code",
   "execution_count": 32,
   "id": "132c8711",
   "metadata": {
    "execution": {
     "iopub.execute_input": "2023-11-18T19:57:51.021580Z",
     "iopub.status.busy": "2023-11-18T19:57:51.021122Z",
     "iopub.status.idle": "2023-11-18T19:57:51.026520Z",
     "shell.execute_reply": "2023-11-18T19:57:51.025296Z"
    },
    "papermill": {
     "duration": 0.021145,
     "end_time": "2023-11-18T19:57:51.029118",
     "exception": false,
     "start_time": "2023-11-18T19:57:51.007973",
     "status": "completed"
    },
    "tags": []
   },
   "outputs": [],
   "source": [
    "pickle.dump(clf, open('Placement_Prediction_Model.pkl', 'wb'))"
   ]
  },
  {
   "cell_type": "code",
   "execution_count": null,
   "id": "deead0ad",
   "metadata": {
    "papermill": {
     "duration": 0.011946,
     "end_time": "2023-11-18T19:57:51.053101",
     "exception": false,
     "start_time": "2023-11-18T19:57:51.041155",
     "status": "completed"
    },
    "tags": []
   },
   "outputs": [],
   "source": []
  }
 ],
 "metadata": {
  "kaggle": {
   "accelerator": "none",
   "dataSources": [
    {
     "datasetId": 4022306,
     "sourceId": 6997263,
     "sourceType": "datasetVersion"
    }
   ],
   "dockerImageVersionId": 30587,
   "isGpuEnabled": false,
   "isInternetEnabled": true,
   "language": "python",
   "sourceType": "notebook"
  },
  "kernelspec": {
   "display_name": "Python 3",
   "language": "python",
   "name": "python3"
  },
  "language_info": {
   "codemirror_mode": {
    "name": "ipython",
    "version": 3
   },
   "file_extension": ".py",
   "mimetype": "text/x-python",
   "name": "python",
   "nbconvert_exporter": "python",
   "pygments_lexer": "ipython3",
   "version": "3.10.12"
  },
  "papermill": {
   "default_parameters": {},
   "duration": 7.560863,
   "end_time": "2023-11-18T19:57:51.685766",
   "environment_variables": {},
   "exception": null,
   "input_path": "__notebook__.ipynb",
   "output_path": "__notebook__.ipynb",
   "parameters": {},
   "start_time": "2023-11-18T19:57:44.124903",
   "version": "2.4.0"
  }
 },
 "nbformat": 4,
 "nbformat_minor": 5
}
