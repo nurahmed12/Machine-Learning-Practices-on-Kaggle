{
 "cells": [
  {
   "cell_type": "code",
   "execution_count": 1,
   "id": "02bbd881",
   "metadata": {
    "_cell_guid": "b1076dfc-b9ad-4769-8c92-a6c4dae69d19",
    "_uuid": "8f2839f25d086af736a60e9eeb907d3b93b6e0e5",
    "execution": {
     "iopub.execute_input": "2023-11-25T21:40:52.068544Z",
     "iopub.status.busy": "2023-11-25T21:40:52.067809Z",
     "iopub.status.idle": "2023-11-25T21:40:52.494822Z",
     "shell.execute_reply": "2023-11-25T21:40:52.492912Z"
    },
    "papermill": {
     "duration": 0.443178,
     "end_time": "2023-11-25T21:40:52.497504",
     "exception": false,
     "start_time": "2023-11-25T21:40:52.054326",
     "status": "completed"
    },
    "tags": []
   },
   "outputs": [
    {
     "name": "stdout",
     "output_type": "stream",
     "text": [
      "/kaggle/input/titanic-dataset/train.csv\n"
     ]
    }
   ],
   "source": [
    "# This Python 3 environment comes with many helpful analytics libraries installed\n",
    "# It is defined by the kaggle/python Docker image: https://github.com/kaggle/docker-python\n",
    "# For example, here's several helpful packages to load\n",
    "\n",
    "import numpy as np # linear algebra\n",
    "import pandas as pd # data processing, CSV file I/O (e.g. pd.read_csv)\n",
    "\n",
    "# Input data files are available in the read-only \"../input/\" directory\n",
    "# For example, running this (by clicking run or pressing Shift+Enter) will list all files under the input directory\n",
    "\n",
    "import os\n",
    "for dirname, _, filenames in os.walk('/kaggle/input'):\n",
    "    for filename in filenames:\n",
    "        print(os.path.join(dirname, filename))\n",
    "\n",
    "# You can write up to 20GB to the current directory (/kaggle/working/) that gets preserved as output when you create a version using \"Save & Run All\" \n",
    "# You can also write temporary files to /kaggle/temp/, but they won't be saved outside of the current session"
   ]
  },
  {
   "cell_type": "code",
   "execution_count": 2,
   "id": "df15f818",
   "metadata": {
    "execution": {
     "iopub.execute_input": "2023-11-25T21:40:52.516341Z",
     "iopub.status.busy": "2023-11-25T21:40:52.515832Z",
     "iopub.status.idle": "2023-11-25T21:40:52.536630Z",
     "shell.execute_reply": "2023-11-25T21:40:52.535683Z"
    },
    "papermill": {
     "duration": 0.033059,
     "end_time": "2023-11-25T21:40:52.539200",
     "exception": false,
     "start_time": "2023-11-25T21:40:52.506141",
     "status": "completed"
    },
    "tags": []
   },
   "outputs": [],
   "source": [
    "df = pd.read_csv('/kaggle/input/titanic-dataset/train.csv')"
   ]
  },
  {
   "cell_type": "code",
   "execution_count": 3,
   "id": "6f0b5b6c",
   "metadata": {
    "execution": {
     "iopub.execute_input": "2023-11-25T21:40:52.558094Z",
     "iopub.status.busy": "2023-11-25T21:40:52.557734Z",
     "iopub.status.idle": "2023-11-25T21:40:52.585857Z",
     "shell.execute_reply": "2023-11-25T21:40:52.585035Z"
    },
    "papermill": {
     "duration": 0.039848,
     "end_time": "2023-11-25T21:40:52.587842",
     "exception": false,
     "start_time": "2023-11-25T21:40:52.547994",
     "status": "completed"
    },
    "tags": []
   },
   "outputs": [
    {
     "data": {
      "text/html": [
       "<div>\n",
       "<style scoped>\n",
       "    .dataframe tbody tr th:only-of-type {\n",
       "        vertical-align: middle;\n",
       "    }\n",
       "\n",
       "    .dataframe tbody tr th {\n",
       "        vertical-align: top;\n",
       "    }\n",
       "\n",
       "    .dataframe thead th {\n",
       "        text-align: right;\n",
       "    }\n",
       "</style>\n",
       "<table border=\"1\" class=\"dataframe\">\n",
       "  <thead>\n",
       "    <tr style=\"text-align: right;\">\n",
       "      <th></th>\n",
       "      <th>PassengerId</th>\n",
       "      <th>Survived</th>\n",
       "      <th>Pclass</th>\n",
       "      <th>Name</th>\n",
       "      <th>Sex</th>\n",
       "      <th>Age</th>\n",
       "      <th>SibSp</th>\n",
       "      <th>Parch</th>\n",
       "      <th>Ticket</th>\n",
       "      <th>Fare</th>\n",
       "      <th>Cabin</th>\n",
       "      <th>Embarked</th>\n",
       "    </tr>\n",
       "  </thead>\n",
       "  <tbody>\n",
       "    <tr>\n",
       "      <th>0</th>\n",
       "      <td>1</td>\n",
       "      <td>0</td>\n",
       "      <td>3</td>\n",
       "      <td>Braund, Mr. Owen Harris</td>\n",
       "      <td>male</td>\n",
       "      <td>22.0</td>\n",
       "      <td>1</td>\n",
       "      <td>0</td>\n",
       "      <td>A/5 21171</td>\n",
       "      <td>7.2500</td>\n",
       "      <td>NaN</td>\n",
       "      <td>S</td>\n",
       "    </tr>\n",
       "    <tr>\n",
       "      <th>1</th>\n",
       "      <td>2</td>\n",
       "      <td>1</td>\n",
       "      <td>1</td>\n",
       "      <td>Cumings, Mrs. John Bradley (Florence Briggs Th...</td>\n",
       "      <td>female</td>\n",
       "      <td>38.0</td>\n",
       "      <td>1</td>\n",
       "      <td>0</td>\n",
       "      <td>PC 17599</td>\n",
       "      <td>71.2833</td>\n",
       "      <td>C85</td>\n",
       "      <td>C</td>\n",
       "    </tr>\n",
       "    <tr>\n",
       "      <th>2</th>\n",
       "      <td>3</td>\n",
       "      <td>1</td>\n",
       "      <td>3</td>\n",
       "      <td>Heikkinen, Miss. Laina</td>\n",
       "      <td>female</td>\n",
       "      <td>26.0</td>\n",
       "      <td>0</td>\n",
       "      <td>0</td>\n",
       "      <td>STON/O2. 3101282</td>\n",
       "      <td>7.9250</td>\n",
       "      <td>NaN</td>\n",
       "      <td>S</td>\n",
       "    </tr>\n",
       "    <tr>\n",
       "      <th>3</th>\n",
       "      <td>4</td>\n",
       "      <td>1</td>\n",
       "      <td>1</td>\n",
       "      <td>Futrelle, Mrs. Jacques Heath (Lily May Peel)</td>\n",
       "      <td>female</td>\n",
       "      <td>35.0</td>\n",
       "      <td>1</td>\n",
       "      <td>0</td>\n",
       "      <td>113803</td>\n",
       "      <td>53.1000</td>\n",
       "      <td>C123</td>\n",
       "      <td>S</td>\n",
       "    </tr>\n",
       "    <tr>\n",
       "      <th>4</th>\n",
       "      <td>5</td>\n",
       "      <td>0</td>\n",
       "      <td>3</td>\n",
       "      <td>Allen, Mr. William Henry</td>\n",
       "      <td>male</td>\n",
       "      <td>35.0</td>\n",
       "      <td>0</td>\n",
       "      <td>0</td>\n",
       "      <td>373450</td>\n",
       "      <td>8.0500</td>\n",
       "      <td>NaN</td>\n",
       "      <td>S</td>\n",
       "    </tr>\n",
       "  </tbody>\n",
       "</table>\n",
       "</div>"
      ],
      "text/plain": [
       "   PassengerId  Survived  Pclass  \\\n",
       "0            1         0       3   \n",
       "1            2         1       1   \n",
       "2            3         1       3   \n",
       "3            4         1       1   \n",
       "4            5         0       3   \n",
       "\n",
       "                                                Name     Sex   Age  SibSp  \\\n",
       "0                            Braund, Mr. Owen Harris    male  22.0      1   \n",
       "1  Cumings, Mrs. John Bradley (Florence Briggs Th...  female  38.0      1   \n",
       "2                             Heikkinen, Miss. Laina  female  26.0      0   \n",
       "3       Futrelle, Mrs. Jacques Heath (Lily May Peel)  female  35.0      1   \n",
       "4                           Allen, Mr. William Henry    male  35.0      0   \n",
       "\n",
       "   Parch            Ticket     Fare Cabin Embarked  \n",
       "0      0         A/5 21171   7.2500   NaN        S  \n",
       "1      0          PC 17599  71.2833   C85        C  \n",
       "2      0  STON/O2. 3101282   7.9250   NaN        S  \n",
       "3      0            113803  53.1000  C123        S  \n",
       "4      0            373450   8.0500   NaN        S  "
      ]
     },
     "execution_count": 3,
     "metadata": {},
     "output_type": "execute_result"
    }
   ],
   "source": [
    "df.head()"
   ]
  },
  {
   "cell_type": "code",
   "execution_count": 4,
   "id": "abaa4ec7",
   "metadata": {
    "execution": {
     "iopub.execute_input": "2023-11-25T21:40:52.607551Z",
     "iopub.status.busy": "2023-11-25T21:40:52.607136Z",
     "iopub.status.idle": "2023-11-25T21:40:53.868625Z",
     "shell.execute_reply": "2023-11-25T21:40:53.867645Z"
    },
    "papermill": {
     "duration": 1.274534,
     "end_time": "2023-11-25T21:40:53.871315",
     "exception": false,
     "start_time": "2023-11-25T21:40:52.596781",
     "status": "completed"
    },
    "tags": []
   },
   "outputs": [],
   "source": [
    "import seaborn as sns\n",
    "import matplotlib.pyplot as plt"
   ]
  },
  {
   "cell_type": "code",
   "execution_count": 5,
   "id": "8ebe6b8e",
   "metadata": {
    "execution": {
     "iopub.execute_input": "2023-11-25T21:40:53.891469Z",
     "iopub.status.busy": "2023-11-25T21:40:53.890386Z",
     "iopub.status.idle": "2023-11-25T21:40:53.896427Z",
     "shell.execute_reply": "2023-11-25T21:40:53.895602Z"
    },
    "papermill": {
     "duration": 0.018346,
     "end_time": "2023-11-25T21:40:53.898724",
     "exception": false,
     "start_time": "2023-11-25T21:40:53.880378",
     "status": "completed"
    },
    "tags": []
   },
   "outputs": [],
   "source": [
    "df['Survived'].dropna(inplace = True)"
   ]
  },
  {
   "cell_type": "markdown",
   "id": "d19bfaab",
   "metadata": {
    "papermill": {
     "duration": 0.008671,
     "end_time": "2023-11-25T21:40:53.916303",
     "exception": false,
     "start_time": "2023-11-25T21:40:53.907632",
     "status": "completed"
    },
    "tags": []
   },
   "source": [
    "# Categorical Data"
   ]
  },
  {
   "cell_type": "markdown",
   "id": "6e01482b",
   "metadata": {
    "papermill": {
     "duration": 0.008539,
     "end_time": "2023-11-25T21:40:53.933618",
     "exception": false,
     "start_time": "2023-11-25T21:40:53.925079",
     "status": "completed"
    },
    "tags": []
   },
   "source": [
    "Count Plot"
   ]
  },
  {
   "cell_type": "code",
   "execution_count": 6,
   "id": "618f983e",
   "metadata": {
    "execution": {
     "iopub.execute_input": "2023-11-25T21:40:53.952717Z",
     "iopub.status.busy": "2023-11-25T21:40:53.952327Z",
     "iopub.status.idle": "2023-11-25T21:40:54.283289Z",
     "shell.execute_reply": "2023-11-25T21:40:54.282175Z"
    },
    "papermill": {
     "duration": 0.343395,
     "end_time": "2023-11-25T21:40:54.285769",
     "exception": false,
     "start_time": "2023-11-25T21:40:53.942374",
     "status": "completed"
    },
    "tags": []
   },
   "outputs": [
    {
     "data": {
      "text/plain": [
       "<Axes: xlabel='Survived', ylabel='count'>"
      ]
     },
     "execution_count": 6,
     "metadata": {},
     "output_type": "execute_result"
    },
    {
     "data": {
      "image/png": "[encoded data removed]",
      "text/plain": [
       "<Figure size 640x480 with 1 Axes>"
      ]
     },
     "metadata": {},
     "output_type": "display_data"
    }
   ],
   "source": [
    "sns.countplot(data=df, x='Survived')\n"
   ]
  },
  {
   "cell_type": "code",
   "execution_count": 7,
   "id": "e2d17f4b",
   "metadata": {
    "execution": {
     "iopub.execute_input": "2023-11-25T21:40:54.306512Z",
     "iopub.status.busy": "2023-11-25T21:40:54.306116Z",
     "iopub.status.idle": "2023-11-25T21:40:54.316990Z",
     "shell.execute_reply": "2023-11-25T21:40:54.316034Z"
    },
    "papermill": {
     "duration": 0.023899,
     "end_time": "2023-11-25T21:40:54.319295",
     "exception": false,
     "start_time": "2023-11-25T21:40:54.295396",
     "status": "completed"
    },
    "tags": []
   },
   "outputs": [
    {
     "data": {
      "text/plain": [
       "Survived\n",
       "0    549\n",
       "1    342\n",
       "Name: count, dtype: int64"
      ]
     },
     "execution_count": 7,
     "metadata": {},
     "output_type": "execute_result"
    }
   ],
   "source": [
    "df['Survived'].value_counts()"
   ]
  },
  {
   "cell_type": "code",
   "execution_count": 8,
   "id": "e4316851",
   "metadata": {
    "execution": {
     "iopub.execute_input": "2023-11-25T21:40:54.340675Z",
     "iopub.status.busy": "2023-11-25T21:40:54.339913Z",
     "iopub.status.idle": "2023-11-25T21:40:54.588606Z",
     "shell.execute_reply": "2023-11-25T21:40:54.587619Z"
    },
    "papermill": {
     "duration": 0.262862,
     "end_time": "2023-11-25T21:40:54.591625",
     "exception": false,
     "start_time": "2023-11-25T21:40:54.328763",
     "status": "completed"
    },
    "tags": []
   },
   "outputs": [
    {
     "data": {
      "text/plain": [
       "<Axes: xlabel='Survived'>"
      ]
     },
     "execution_count": 8,
     "metadata": {},
     "output_type": "execute_result"
    },
    {
     "data": {
      "image/png": "[encoded data removed]",
      "text/plain": [
       "<Figure size 640x480 with 1 Axes>"
      ]
     },
     "metadata": {},
     "output_type": "display_data"
    }
   ],
   "source": [
    "df['Survived'].value_counts().plot(kind = 'bar')"
   ]
  },
  {
   "cell_type": "code",
   "execution_count": 9,
   "id": "12f05db8",
   "metadata": {
    "execution": {
     "iopub.execute_input": "2023-11-25T21:40:54.613261Z",
     "iopub.status.busy": "2023-11-25T21:40:54.612851Z",
     "iopub.status.idle": "2023-11-25T21:40:54.883537Z",
     "shell.execute_reply": "2023-11-25T21:40:54.882481Z"
    },
    "papermill": {
     "duration": 0.284429,
     "end_time": "2023-11-25T21:40:54.885995",
     "exception": false,
     "start_time": "2023-11-25T21:40:54.601566",
     "status": "completed"
    },
    "tags": []
   },
   "outputs": [
    {
     "data": {
      "text/plain": [
       "<Axes: xlabel='SibSp'>"
      ]
     },
     "execution_count": 9,
     "metadata": {},
     "output_type": "execute_result"
    },
    {
     "data": {
      "image/png": "[encoded data removed]",
      "text/plain": [
       "<Figure size 640x480 with 1 Axes>"
      ]
     },
     "metadata": {},
     "output_type": "display_data"
    }
   ],
   "source": [
    "df['SibSp'].value_counts().plot(kind = 'bar')"
   ]
  },
  {
   "cell_type": "code",
   "execution_count": 10,
   "id": "bc492d7d",
   "metadata": {
    "execution": {
     "iopub.execute_input": "2023-11-25T21:40:54.909041Z",
     "iopub.status.busy": "2023-11-25T21:40:54.908682Z",
     "iopub.status.idle": "2023-11-25T21:40:55.187698Z",
     "shell.execute_reply": "2023-11-25T21:40:55.186609Z"
    },
    "papermill": {
     "duration": 0.293045,
     "end_time": "2023-11-25T21:40:55.190056",
     "exception": false,
     "start_time": "2023-11-25T21:40:54.897011",
     "status": "completed"
    },
    "tags": []
   },
   "outputs": [
    {
     "data": {
      "text/plain": [
       "<Axes: xlabel='SibSp', ylabel='count'>"
      ]
     },
     "execution_count": 10,
     "metadata": {},
     "output_type": "execute_result"
    },
    {
     "data": {
      "image/png": "[encoded data removed]",
      "text/plain": [
       "<Figure size 640x480 with 1 Axes>"
      ]
     },
     "metadata": {},
     "output_type": "display_data"
    }
   ],
   "source": [
    "sns.countplot(data = df, x = 'SibSp')"
   ]
  },
  {
   "cell_type": "markdown",
   "id": "e267d7b9",
   "metadata": {
    "papermill": {
     "duration": 0.010491,
     "end_time": "2023-11-25T21:40:55.211501",
     "exception": false,
     "start_time": "2023-11-25T21:40:55.201010",
     "status": "completed"
    },
    "tags": []
   },
   "source": [
    "Pie Chart"
   ]
  },
  {
   "cell_type": "code",
   "execution_count": 11,
   "id": "8579607b",
   "metadata": {
    "execution": {
     "iopub.execute_input": "2023-11-25T21:40:55.235454Z",
     "iopub.status.busy": "2023-11-25T21:40:55.234372Z",
     "iopub.status.idle": "2023-11-25T21:40:55.381025Z",
     "shell.execute_reply": "2023-11-25T21:40:55.379276Z"
    },
    "papermill": {
     "duration": 0.163217,
     "end_time": "2023-11-25T21:40:55.385400",
     "exception": false,
     "start_time": "2023-11-25T21:40:55.222183",
     "status": "completed"
    },
    "tags": []
   },
   "outputs": [
    {
     "data": {
      "text/plain": [
       "<Axes: ylabel='count'>"
      ]
     },
     "execution_count": 11,
     "metadata": {},
     "output_type": "execute_result"
    },
    {
     "data": {
      "image/png": "[encoded data removed]",
      "text/plain": [
       "<Figure size 640x480 with 1 Axes>"
      ]
     },
     "metadata": {},
     "output_type": "display_data"
    }
   ],
   "source": [
    "df['Survived'].value_counts().plot(kind = 'pie', autopct = '%.2f')"
   ]
  },
  {
   "cell_type": "code",
   "execution_count": 12,
   "id": "64a7637b",
   "metadata": {
    "execution": {
     "iopub.execute_input": "2023-11-25T21:40:55.436914Z",
     "iopub.status.busy": "2023-11-25T21:40:55.435071Z",
     "iopub.status.idle": "2023-11-25T21:40:55.575566Z",
     "shell.execute_reply": "2023-11-25T21:40:55.574094Z"
    },
    "papermill": {
     "duration": 0.170726,
     "end_time": "2023-11-25T21:40:55.580081",
     "exception": false,
     "start_time": "2023-11-25T21:40:55.409355",
     "status": "completed"
    },
    "tags": []
   },
   "outputs": [
    {
     "data": {
      "text/plain": [
       "<Axes: ylabel='count'>"
      ]
     },
     "execution_count": 12,
     "metadata": {},
     "output_type": "execute_result"
    },
    {
     "data": {
      "image/png": "[encoded data removed]",
      "text/plain": [
       "<Figure size 640x480 with 1 Axes>"
      ]
     },
     "metadata": {},
     "output_type": "display_data"
    }
   ],
   "source": [
    "df['Sex'].value_counts().plot(kind = 'pie', autopct = '%.2f')"
   ]
  },
  {
   "cell_type": "markdown",
   "id": "e1356332",
   "metadata": {
    "papermill": {
     "duration": 0.024479,
     "end_time": "2023-11-25T21:40:55.629321",
     "exception": false,
     "start_time": "2023-11-25T21:40:55.604842",
     "status": "completed"
    },
    "tags": []
   },
   "source": [
    "# Numerical Data"
   ]
  },
  {
   "cell_type": "markdown",
   "id": "1f5ba2af",
   "metadata": {
    "papermill": {
     "duration": 0.011412,
     "end_time": "2023-11-25T21:40:55.661197",
     "exception": false,
     "start_time": "2023-11-25T21:40:55.649785",
     "status": "completed"
    },
    "tags": []
   },
   "source": [
    "Histogram"
   ]
  },
  {
   "cell_type": "code",
   "execution_count": 13,
   "id": "970614d4",
   "metadata": {
    "execution": {
     "iopub.execute_input": "2023-11-25T21:40:55.687036Z",
     "iopub.status.busy": "2023-11-25T21:40:55.686349Z",
     "iopub.status.idle": "2023-11-25T21:40:55.998914Z",
     "shell.execute_reply": "2023-11-25T21:40:55.997710Z"
    },
    "papermill": {
     "duration": 0.328389,
     "end_time": "2023-11-25T21:40:56.001470",
     "exception": false,
     "start_time": "2023-11-25T21:40:55.673081",
     "status": "completed"
    },
    "tags": []
   },
   "outputs": [
    {
     "data": {
      "text/plain": [
       "(array([ 54.,  46., 177., 169., 118.,  70.,  45.,  24.,   9.,   2.]),\n",
       " array([ 0.42 ,  8.378, 16.336, 24.294, 32.252, 40.21 , 48.168, 56.126,\n",
       "        64.084, 72.042, 80.   ]),\n",
       " <BarContainer object of 10 artists>)"
      ]
     },
     "execution_count": 13,
     "metadata": {},
     "output_type": "execute_result"
    },
    {
     "data": {
      "image/png": "[encoded data removed]",
      "text/plain": [
       "<Figure size 640x480 with 1 Axes>"
      ]
     },
     "metadata": {},
     "output_type": "display_data"
    }
   ],
   "source": [
    "plt.hist(df['Age'])"
   ]
  },
  {
   "cell_type": "code",
   "execution_count": 14,
   "id": "28447e00",
   "metadata": {
    "execution": {
     "iopub.execute_input": "2023-11-25T21:40:56.028454Z",
     "iopub.status.busy": "2023-11-25T21:40:56.027814Z",
     "iopub.status.idle": "2023-11-25T21:40:56.307801Z",
     "shell.execute_reply": "2023-11-25T21:40:56.306748Z"
    },
    "papermill": {
     "duration": 0.296504,
     "end_time": "2023-11-25T21:40:56.310270",
     "exception": false,
     "start_time": "2023-11-25T21:40:56.013766",
     "status": "completed"
    },
    "tags": []
   },
   "outputs": [
    {
     "data": {
      "text/plain": [
       "(array([ 64., 115., 230., 155.,  86.,  42.,  17.,   5.]),\n",
       " array([ 0.42  , 10.3675, 20.315 , 30.2625, 40.21  , 50.1575, 60.105 ,\n",
       "        70.0525, 80.    ]),\n",
       " <BarContainer object of 8 artists>)"
      ]
     },
     "execution_count": 14,
     "metadata": {},
     "output_type": "execute_result"
    },
    {
     "data": {
      "image/png": "[encoded data removed]",
      "text/plain": [
       "<Figure size 640x480 with 1 Axes>"
      ]
     },
     "metadata": {},
     "output_type": "display_data"
    }
   ],
   "source": [
    "plt.hist(df['Age'], bins = 8)"
   ]
  },
  {
   "cell_type": "markdown",
   "id": "41b55b3d",
   "metadata": {
    "papermill": {
     "duration": 0.01235,
     "end_time": "2023-11-25T21:40:56.335349",
     "exception": false,
     "start_time": "2023-11-25T21:40:56.322999",
     "status": "completed"
    },
    "tags": []
   },
   "source": [
    "Distplot"
   ]
  },
  {
   "cell_type": "code",
   "execution_count": 15,
   "id": "3b4bce8f",
   "metadata": {
    "execution": {
     "iopub.execute_input": "2023-11-25T21:40:56.362562Z",
     "iopub.status.busy": "2023-11-25T21:40:56.362121Z",
     "iopub.status.idle": "2023-11-25T21:40:56.737325Z",
     "shell.execute_reply": "2023-11-25T21:40:56.736279Z"
    },
    "papermill": {
     "duration": 0.391422,
     "end_time": "2023-11-25T21:40:56.739608",
     "exception": false,
     "start_time": "2023-11-25T21:40:56.348186",
     "status": "completed"
    },
    "tags": []
   },
   "outputs": [
    {
     "name": "stderr",
     "output_type": "stream",
     "text": [
      "/tmp/ipykernel_20/3255828239.py:1: UserWarning: \n",
      "\n",
      "`distplot` is a deprecated function and will be removed in seaborn v0.14.0.\n",
      "\n",
      "Please adapt your code to use either `displot` (a figure-level function with\n",
      "similar flexibility) or `histplot` (an axes-level function for histograms).\n",
      "\n",
      "For a guide to updating your code to use the new functions, please see\n",
      "https://gist.github.com/mwaskom/de44147ed2974457ad6372750bbe5751\n",
      "\n",
      "  sns.distplot(df['Age'])\n"
     ]
    },
    {
     "data": {
      "text/plain": [
       "<Axes: xlabel='Age', ylabel='Density'>"
      ]
     },
     "execution_count": 15,
     "metadata": {},
     "output_type": "execute_result"
    },
    {
     "data": {
      "image/png": "[encoded data removed]",
      "text/plain": [
       "<Figure size 640x480 with 1 Axes>"
      ]
     },
     "metadata": {},
     "output_type": "display_data"
    }
   ],
   "source": [
    "sns.distplot(df['Age'])"
   ]
  },
  {
   "cell_type": "markdown",
   "id": "cd22c8b8",
   "metadata": {
    "papermill": {
     "duration": 0.013402,
     "end_time": "2023-11-25T21:40:56.766495",
     "exception": false,
     "start_time": "2023-11-25T21:40:56.753093",
     "status": "completed"
    },
    "tags": []
   },
   "source": [
    "Boxplot"
   ]
  },
  {
   "cell_type": "code",
   "execution_count": 16,
   "id": "61acf65f",
   "metadata": {
    "execution": {
     "iopub.execute_input": "2023-11-25T21:40:56.794940Z",
     "iopub.status.busy": "2023-11-25T21:40:56.794295Z",
     "iopub.status.idle": "2023-11-25T21:40:56.962892Z",
     "shell.execute_reply": "2023-11-25T21:40:56.961716Z"
    },
    "papermill": {
     "duration": 0.185809,
     "end_time": "2023-11-25T21:40:56.965428",
     "exception": false,
     "start_time": "2023-11-25T21:40:56.779619",
     "status": "completed"
    },
    "tags": []
   },
   "outputs": [
    {
     "data": {
      "text/plain": [
       "<Axes: xlabel='Age'>"
      ]
     },
     "execution_count": 16,
     "metadata": {},
     "output_type": "execute_result"
    },
    {
     "data": {
      "image/png": "[encoded data removed]",
      "text/plain": [
       "<Figure size 640x480 with 1 Axes>"
      ]
     },
     "metadata": {},
     "output_type": "display_data"
    }
   ],
   "source": [
    "sns.boxplot(data = df, x = 'Age')"
   ]
  },
  {
   "cell_type": "code",
   "execution_count": 17,
   "id": "8e658362",
   "metadata": {
    "execution": {
     "iopub.execute_input": "2023-11-25T21:40:56.995354Z",
     "iopub.status.busy": "2023-11-25T21:40:56.994902Z",
     "iopub.status.idle": "2023-11-25T21:40:57.003194Z",
     "shell.execute_reply": "2023-11-25T21:40:57.002156Z"
    },
    "papermill": {
     "duration": 0.026355,
     "end_time": "2023-11-25T21:40:57.005681",
     "exception": false,
     "start_time": "2023-11-25T21:40:56.979326",
     "status": "completed"
    },
    "tags": []
   },
   "outputs": [
    {
     "data": {
      "text/plain": [
       "0.42"
      ]
     },
     "execution_count": 17,
     "metadata": {},
     "output_type": "execute_result"
    }
   ],
   "source": [
    "df['Age'].min()"
   ]
  },
  {
   "cell_type": "code",
   "execution_count": 18,
   "id": "c7417beb",
   "metadata": {
    "execution": {
     "iopub.execute_input": "2023-11-25T21:40:57.035881Z",
     "iopub.status.busy": "2023-11-25T21:40:57.035005Z",
     "iopub.status.idle": "2023-11-25T21:40:57.042683Z",
     "shell.execute_reply": "2023-11-25T21:40:57.041659Z"
    },
    "papermill": {
     "duration": 0.025308,
     "end_time": "2023-11-25T21:40:57.044925",
     "exception": false,
     "start_time": "2023-11-25T21:40:57.019617",
     "status": "completed"
    },
    "tags": []
   },
   "outputs": [
    {
     "data": {
      "text/plain": [
       "80.0"
      ]
     },
     "execution_count": 18,
     "metadata": {},
     "output_type": "execute_result"
    }
   ],
   "source": [
    "df['Age'].max()"
   ]
  },
  {
   "cell_type": "code",
   "execution_count": 19,
   "id": "aa5a6792",
   "metadata": {
    "execution": {
     "iopub.execute_input": "2023-11-25T21:40:57.075681Z",
     "iopub.status.busy": "2023-11-25T21:40:57.075303Z",
     "iopub.status.idle": "2023-11-25T21:40:57.082745Z",
     "shell.execute_reply": "2023-11-25T21:40:57.081876Z"
    },
    "papermill": {
     "duration": 0.025642,
     "end_time": "2023-11-25T21:40:57.084677",
     "exception": false,
     "start_time": "2023-11-25T21:40:57.059035",
     "status": "completed"
    },
    "tags": []
   },
   "outputs": [
    {
     "data": {
      "text/plain": [
       "29.69911764705882"
      ]
     },
     "execution_count": 19,
     "metadata": {},
     "output_type": "execute_result"
    }
   ],
   "source": [
    "df['Age'].mean()"
   ]
  },
  {
   "cell_type": "code",
   "execution_count": 20,
   "id": "0a2f77ea",
   "metadata": {
    "execution": {
     "iopub.execute_input": "2023-11-25T21:40:57.115403Z",
     "iopub.status.busy": "2023-11-25T21:40:57.114348Z",
     "iopub.status.idle": "2023-11-25T21:40:57.122204Z",
     "shell.execute_reply": "2023-11-25T21:40:57.121099Z"
    },
    "papermill": {
     "duration": 0.025616,
     "end_time": "2023-11-25T21:40:57.124460",
     "exception": false,
     "start_time": "2023-11-25T21:40:57.098844",
     "status": "completed"
    },
    "tags": []
   },
   "outputs": [
    {
     "data": {
      "text/plain": [
       "0.38910778230082704"
      ]
     },
     "execution_count": 20,
     "metadata": {},
     "output_type": "execute_result"
    }
   ],
   "source": [
    "df['Age'].skew()"
   ]
  },
  {
   "cell_type": "code",
   "execution_count": null,
   "id": "5c90910d",
   "metadata": {
    "papermill": {
     "duration": 0.014177,
     "end_time": "2023-11-25T21:40:57.153080",
     "exception": false,
     "start_time": "2023-11-25T21:40:57.138903",
     "status": "completed"
    },
    "tags": []
   },
   "outputs": [],
   "source": []
  }
 ],
 "metadata": {
  "kaggle": {
   "accelerator": "none",
   "dataSources": [
    {
     "datasetId": 4058424,
     "sourceId": 7051716,
     "sourceType": "datasetVersion"
    }
   ],
   "dockerImageVersionId": 30587,
   "isGpuEnabled": false,
   "isInternetEnabled": true,
   "language": "python",
   "sourceType": "notebook"
  },
  "kernelspec": {
   "display_name": "Python 3",
   "language": "python",
   "name": "python3"
  },
  "language_info": {
   "codemirror_mode": {
    "name": "ipython",
    "version": 3
   },
   "file_extension": ".py",
   "mimetype": "text/x-python",
   "name": "python",
   "nbconvert_exporter": "python",
   "pygments_lexer": "ipython3",
   "version": "3.10.12"
  },
  "papermill": {
   "default_parameters": {},
   "duration": 8.952356,
   "end_time": "2023-11-25T21:40:57.687480",
   "environment_variables": {},
   "exception": null,
   "input_path": "__notebook__.ipynb",
   "output_path": "__notebook__.ipynb",
   "parameters": {},
   "start_time": "2023-11-25T21:40:48.735124",
   "version": "2.4.0"
  }
 },
 "nbformat": 4,
 "nbformat_minor": 5
}
