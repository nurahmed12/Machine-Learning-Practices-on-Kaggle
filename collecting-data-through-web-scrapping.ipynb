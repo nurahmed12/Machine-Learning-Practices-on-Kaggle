{
 "cells": [
  {
   "cell_type": "code",
   "execution_count": 1,
   "id": "9389da43",
   "metadata": {
    "_cell_guid": "b1076dfc-b9ad-4769-8c92-a6c4dae69d19",
    "_uuid": "8f2839f25d086af736a60e9eeb907d3b93b6e0e5",
    "execution": {
     "iopub.execute_input": "2023-11-23T21:10:47.071699Z",
     "iopub.status.busy": "2023-11-23T21:10:47.070972Z",
     "iopub.status.idle": "2023-11-23T21:10:47.386329Z",
     "shell.execute_reply": "2023-11-23T21:10:47.385290Z"
    },
    "papermill": {
     "duration": 0.326411,
     "end_time": "2023-11-23T21:10:47.388614",
     "exception": false,
     "start_time": "2023-11-23T21:10:47.062203",
     "status": "completed"
    },
    "tags": []
   },
   "outputs": [],
   "source": [
    "# This Python 3 environment comes with many helpful analytics libraries installed\n",
    "# It is defined by the kaggle/python Docker image: https://github.com/kaggle/docker-python\n",
    "# For example, here's several helpful packages to load\n",
    "\n",
    "import numpy as np # linear algebra\n",
    "import pandas as pd # data processing, CSV file I/O (e.g. pd.read_csv)\n",
    "\n",
    "# Input data files are available in the read-only \"../input/\" directory\n",
    "# For example, running this (by clicking run or pressing Shift+Enter) will list all files under the input directory\n",
    "\n",
    "import os\n",
    "for dirname, _, filenames in os.walk('/kaggle/input'):\n",
    "    for filename in filenames:\n",
    "        print(os.path.join(dirname, filename))\n",
    "\n",
    "# You can write up to 20GB to the current directory (/kaggle/working/) that gets preserved as output when you create a version using \"Save & Run All\" \n",
    "# You can also write temporary files to /kaggle/temp/, but they won't be saved outside of the current session"
   ]
  },
  {
   "cell_type": "code",
   "execution_count": 2,
   "id": "7e7a3843",
   "metadata": {
    "execution": {
     "iopub.execute_input": "2023-11-23T21:10:47.402595Z",
     "iopub.status.busy": "2023-11-23T21:10:47.401934Z",
     "iopub.status.idle": "2023-11-23T21:10:47.454325Z",
     "shell.execute_reply": "2023-11-23T21:10:47.453179Z"
    },
    "papermill": {
     "duration": 0.062184,
     "end_time": "2023-11-23T21:10:47.456651",
     "exception": false,
     "start_time": "2023-11-23T21:10:47.394467",
     "status": "completed"
    },
    "tags": []
   },
   "outputs": [],
   "source": [
    "import requests"
   ]
  },
  {
   "cell_type": "code",
   "execution_count": 3,
   "id": "47af1046",
   "metadata": {
    "execution": {
     "iopub.execute_input": "2023-11-23T21:10:47.469072Z",
     "iopub.status.busy": "2023-11-23T21:10:47.468710Z",
     "iopub.status.idle": "2023-11-23T21:11:00.418597Z",
     "shell.execute_reply": "2023-11-23T21:11:00.417781Z"
    },
    "papermill": {
     "duration": 12.958776,
     "end_time": "2023-11-23T21:11:00.420934",
     "exception": false,
     "start_time": "2023-11-23T21:10:47.462158",
     "status": "completed"
    },
    "tags": []
   },
   "outputs": [
    {
     "name": "stdout",
     "output_type": "stream",
     "text": [
      "Collecting bs4\r\n",
      "  Downloading bs4-0.0.1.tar.gz (1.1 kB)\r\n",
      "  Preparing metadata (setup.py) ... \u001b[?25l-\b \bdone\r\n",
      "\u001b[?25hRequirement already satisfied: beautifulsoup4 in /opt/conda/lib/python3.10/site-packages (from bs4) (4.12.2)\r\n",
      "Requirement already satisfied: soupsieve>1.2 in /opt/conda/lib/python3.10/site-packages (from beautifulsoup4->bs4) (2.3.2.post1)\r\n",
      "Building wheels for collected packages: bs4\r\n",
      "  Building wheel for bs4 (setup.py) ... \u001b[?25l-\b \b\\\b \bdone\r\n",
      "\u001b[?25h  Created wheel for bs4: filename=bs4-0.0.1-py3-none-any.whl size=1256 sha256=c8155ad4d9a9a11cd202af9c77771b2767d28a387a23fabf0cccf777766732e1\r\n",
      "  Stored in directory: /root/.cache/pip/wheels/25/42/45/b773edc52acb16cd2db4cf1a0b47117e2f69bb4eb300ed0e70\r\n",
      "Successfully built bs4\r\n",
      "Installing collected packages: bs4\r\n",
      "Successfully installed bs4-0.0.1\r\n"
     ]
    }
   ],
   "source": [
    "!pip install bs4"
   ]
  },
  {
   "cell_type": "code",
   "execution_count": 4,
   "id": "a8b76699",
   "metadata": {
    "execution": {
     "iopub.execute_input": "2023-11-23T21:11:00.436195Z",
     "iopub.status.busy": "2023-11-23T21:11:00.435162Z",
     "iopub.status.idle": "2023-11-23T21:11:00.621042Z",
     "shell.execute_reply": "2023-11-23T21:11:00.619814Z"
    },
    "papermill": {
     "duration": 0.196383,
     "end_time": "2023-11-23T21:11:00.623641",
     "exception": false,
     "start_time": "2023-11-23T21:11:00.427258",
     "status": "completed"
    },
    "tags": []
   },
   "outputs": [],
   "source": [
    "from bs4 import BeautifulSoup"
   ]
  },
  {
   "cell_type": "code",
   "execution_count": 5,
   "id": "950aba5d",
   "metadata": {
    "execution": {
     "iopub.execute_input": "2023-11-23T21:11:00.637966Z",
     "iopub.status.busy": "2023-11-23T21:11:00.637392Z",
     "iopub.status.idle": "2023-11-23T21:11:00.716026Z",
     "shell.execute_reply": "2023-11-23T21:11:00.714711Z"
    },
    "papermill": {
     "duration": 0.088329,
     "end_time": "2023-11-23T21:11:00.718463",
     "exception": false,
     "start_time": "2023-11-23T21:11:00.630134",
     "status": "completed"
    },
    "tags": []
   },
   "outputs": [],
   "source": [
    "webpage = requests.get('https://www.ambitionbox.com/list-of-companies?campaign=desktop_nav&page=1')     #{\"User-Agent\": \"Mozilla/5.0 (Windows NT 10.0; Win64; x64) AppleWebKit/537.36 (KHTML, like Gecko) Chrome/91.0.4472.124 Safari/537.36\"}"
   ]
  },
  {
   "cell_type": "code",
   "execution_count": 6,
   "id": "3978331c",
   "metadata": {
    "execution": {
     "iopub.execute_input": "2023-11-23T21:11:00.732540Z",
     "iopub.status.busy": "2023-11-23T21:11:00.732182Z",
     "iopub.status.idle": "2023-11-23T21:11:00.738932Z",
     "shell.execute_reply": "2023-11-23T21:11:00.738118Z"
    },
    "papermill": {
     "duration": 0.015933,
     "end_time": "2023-11-23T21:11:00.740697",
     "exception": false,
     "start_time": "2023-11-23T21:11:00.724764",
     "status": "completed"
    },
    "tags": []
   },
   "outputs": [
    {
     "data": {
      "text/plain": [
       "'<HTML><HEAD>\\n<TITLE>Access Denied</TITLE>\\n</HEAD><BODY>\\n<H1>Access Denied</H1>\\n \\nYou don\\'t have permission to access \"http&#58;&#47;&#47;www&#46;ambitionbox&#46;com&#47;list&#45;of&#45;companies&#63;\" on this server.<P>\\nReference&#32;&#35;18&#46;7cf06e68&#46;1700773860&#46;d1f9545\\n</BODY>\\n</HTML>\\n'"
      ]
     },
     "execution_count": 6,
     "metadata": {},
     "output_type": "execute_result"
    }
   ],
   "source": [
    "webpage.text"
   ]
  },
  {
   "cell_type": "code",
   "execution_count": 7,
   "id": "5230a9eb",
   "metadata": {
    "execution": {
     "iopub.execute_input": "2023-11-23T21:11:00.754869Z",
     "iopub.status.busy": "2023-11-23T21:11:00.754205Z",
     "iopub.status.idle": "2023-11-23T21:11:00.800882Z",
     "shell.execute_reply": "2023-11-23T21:11:00.799764Z"
    },
    "papermill": {
     "duration": 0.056823,
     "end_time": "2023-11-23T21:11:00.803716",
     "exception": false,
     "start_time": "2023-11-23T21:11:00.746893",
     "status": "completed"
    },
    "tags": []
   },
   "outputs": [],
   "source": [
    "headers = {\"User-Agent\": \"Mozilla/5.0 (Windows NT 10.0; Win64; x64) AppleWebKit/537.36 (KHTML, like Gecko) Chrome/91.0.4472.124 Safari/537.36\"}\n",
    "webpage = requests.get('https://www.ambitionbox.com/list-of-companies?campaign=desktop_nav&page=1', headers = headers).text"
   ]
  },
  {
   "cell_type": "code",
   "execution_count": 8,
   "id": "7986e255",
   "metadata": {
    "execution": {
     "iopub.execute_input": "2023-11-23T21:11:00.817526Z",
     "iopub.status.busy": "2023-11-23T21:11:00.817195Z",
     "iopub.status.idle": "2023-11-23T21:11:00.826049Z",
     "shell.execute_reply": "2023-11-23T21:11:00.825097Z"
    },
    "papermill": {
     "duration": 0.01793,
     "end_time": "2023-11-23T21:11:00.828022",
     "exception": false,
     "start_time": "2023-11-23T21:11:00.810092",
     "status": "completed"
    },
    "tags": []
   },
   "outputs": [],
   "source": [
    "soup = BeautifulSoup(webpage, 'lxml')"
   ]
  },
  {
   "cell_type": "code",
   "execution_count": 9,
   "id": "3dff4882",
   "metadata": {
    "execution": {
     "iopub.execute_input": "2023-11-23T21:11:00.842560Z",
     "iopub.status.busy": "2023-11-23T21:11:00.842197Z",
     "iopub.status.idle": "2023-11-23T21:11:00.847144Z",
     "shell.execute_reply": "2023-11-23T21:11:00.846067Z"
    },
    "papermill": {
     "duration": 0.014291,
     "end_time": "2023-11-23T21:11:00.849202",
     "exception": false,
     "start_time": "2023-11-23T21:11:00.834911",
     "status": "completed"
    },
    "tags": []
   },
   "outputs": [],
   "source": [
    "#print(soup.prettify())"
   ]
  },
  {
   "cell_type": "code",
   "execution_count": 10,
   "id": "c17c43bf",
   "metadata": {
    "execution": {
     "iopub.execute_input": "2023-11-23T21:11:00.863483Z",
     "iopub.status.busy": "2023-11-23T21:11:00.862514Z",
     "iopub.status.idle": "2023-11-23T21:11:00.869244Z",
     "shell.execute_reply": "2023-11-23T21:11:00.867970Z"
    },
    "papermill": {
     "duration": 0.015752,
     "end_time": "2023-11-23T21:11:00.871116",
     "exception": false,
     "start_time": "2023-11-23T21:11:00.855364",
     "status": "completed"
    },
    "tags": []
   },
   "outputs": [
    {
     "data": {
      "text/plain": [
       "'Access Denied'"
      ]
     },
     "execution_count": 10,
     "metadata": {},
     "output_type": "execute_result"
    }
   ],
   "source": [
    "soup.find_all('h1')[0].text"
   ]
  },
  {
   "cell_type": "code",
   "execution_count": 11,
   "id": "4835e216",
   "metadata": {
    "execution": {
     "iopub.execute_input": "2023-11-23T21:11:00.885284Z",
     "iopub.status.busy": "2023-11-23T21:11:00.884978Z",
     "iopub.status.idle": "2023-11-23T21:11:00.892225Z",
     "shell.execute_reply": "2023-11-23T21:11:00.891314Z"
    },
    "papermill": {
     "duration": 0.016832,
     "end_time": "2023-11-23T21:11:00.894315",
     "exception": false,
     "start_time": "2023-11-23T21:11:00.877483",
     "status": "completed"
    },
    "tags": []
   },
   "outputs": [
    {
     "data": {
      "text/plain": [
       "0"
      ]
     },
     "execution_count": 11,
     "metadata": {},
     "output_type": "execute_result"
    }
   ],
   "source": [
    "len(soup.find_all('h2'))"
   ]
  },
  {
   "cell_type": "code",
   "execution_count": 12,
   "id": "dbef12f2",
   "metadata": {
    "execution": {
     "iopub.execute_input": "2023-11-23T21:11:00.909287Z",
     "iopub.status.busy": "2023-11-23T21:11:00.908747Z",
     "iopub.status.idle": "2023-11-23T21:11:00.912987Z",
     "shell.execute_reply": "2023-11-23T21:11:00.911884Z"
    },
    "papermill": {
     "duration": 0.014492,
     "end_time": "2023-11-23T21:11:00.915274",
     "exception": false,
     "start_time": "2023-11-23T21:11:00.900782",
     "status": "completed"
    },
    "tags": []
   },
   "outputs": [],
   "source": [
    "for i in soup.find_all('h2'):\n",
    "    print(i.text.strip())"
   ]
  },
  {
   "cell_type": "code",
   "execution_count": 13,
   "id": "54eab396",
   "metadata": {
    "execution": {
     "iopub.execute_input": "2023-11-23T21:11:00.930808Z",
     "iopub.status.busy": "2023-11-23T21:11:00.930389Z",
     "iopub.status.idle": "2023-11-23T21:11:00.934697Z",
     "shell.execute_reply": "2023-11-23T21:11:00.933782Z"
    },
    "papermill": {
     "duration": 0.014508,
     "end_time": "2023-11-23T21:11:00.936585",
     "exception": false,
     "start_time": "2023-11-23T21:11:00.922077",
     "status": "completed"
    },
    "tags": []
   },
   "outputs": [],
   "source": [
    "for i in soup.find_all('div', class_ = 'companyCardWrapper__companyRating rating-35'):\n",
    "    print(i.text.strip())"
   ]
  },
  {
   "cell_type": "code",
   "execution_count": 14,
   "id": "8dfac00c",
   "metadata": {
    "execution": {
     "iopub.execute_input": "2023-11-23T21:11:00.951492Z",
     "iopub.status.busy": "2023-11-23T21:11:00.951113Z",
     "iopub.status.idle": "2023-11-23T21:11:00.955399Z",
     "shell.execute_reply": "2023-11-23T21:11:00.954291Z"
    },
    "papermill": {
     "duration": 0.014445,
     "end_time": "2023-11-23T21:11:00.957551",
     "exception": false,
     "start_time": "2023-11-23T21:11:00.943106",
     "status": "completed"
    },
    "tags": []
   },
   "outputs": [],
   "source": [
    "# for i in soup.find_all('span', class_ = \"companyCardWrapper__ActionCount\"):\n",
    "#     print(i.text.strip())"
   ]
  },
  {
   "cell_type": "code",
   "execution_count": 15,
   "id": "35a45b7f",
   "metadata": {
    "execution": {
     "iopub.execute_input": "2023-11-23T21:11:00.973396Z",
     "iopub.status.busy": "2023-11-23T21:11:00.972740Z",
     "iopub.status.idle": "2023-11-23T21:11:00.977512Z",
     "shell.execute_reply": "2023-11-23T21:11:00.976443Z"
    },
    "papermill": {
     "duration": 0.014534,
     "end_time": "2023-11-23T21:11:00.979505",
     "exception": false,
     "start_time": "2023-11-23T21:11:00.964971",
     "status": "completed"
    },
    "tags": []
   },
   "outputs": [],
   "source": [
    "company = soup.find_all('div', class_ = 'companyCardWrapper')"
   ]
  },
  {
   "cell_type": "code",
   "execution_count": 16,
   "id": "926cc40f",
   "metadata": {
    "execution": {
     "iopub.execute_input": "2023-11-23T21:11:00.994709Z",
     "iopub.status.busy": "2023-11-23T21:11:00.994082Z",
     "iopub.status.idle": "2023-11-23T21:11:01.000337Z",
     "shell.execute_reply": "2023-11-23T21:11:00.998745Z"
    },
    "papermill": {
     "duration": 0.016395,
     "end_time": "2023-11-23T21:11:01.002544",
     "exception": false,
     "start_time": "2023-11-23T21:11:00.986149",
     "status": "completed"
    },
    "tags": []
   },
   "outputs": [
    {
     "data": {
      "text/plain": [
       "0"
      ]
     },
     "execution_count": 16,
     "metadata": {},
     "output_type": "execute_result"
    }
   ],
   "source": [
    "len(company)"
   ]
  },
  {
   "cell_type": "code",
   "execution_count": 17,
   "id": "2f044ad0",
   "metadata": {
    "execution": {
     "iopub.execute_input": "2023-11-23T21:11:01.017364Z",
     "iopub.status.busy": "2023-11-23T21:11:01.017026Z",
     "iopub.status.idle": "2023-11-23T21:11:01.024193Z",
     "shell.execute_reply": "2023-11-23T21:11:01.023082Z"
    },
    "papermill": {
     "duration": 0.017229,
     "end_time": "2023-11-23T21:11:01.026551",
     "exception": false,
     "start_time": "2023-11-23T21:11:01.009322",
     "status": "completed"
    },
    "tags": []
   },
   "outputs": [],
   "source": [
    "names = []\n",
    "ratings = []\n",
    "reviews = []\n",
    "\n",
    "ctype = []\n",
    "employees = []\n",
    "hq = []\n",
    "old = []\n",
    "\n",
    "\n",
    "for i in company:\n",
    "    names.append(i.find('h2', class_ = 'companyCardWrapper__companyName').text.strip())\n",
    "    ratings.append(i.find('span', class_ = 'companyCardWrapper__companyRatingValue').text.strip())\n",
    "    reviews.append(i.find('span', class_ = 'companyCardWrapper__ActionCount').text.strip())\n",
    "    k = i.find('span', class_ = 'companyCardWrapper__interLinking').text.strip().split(' | ')\n",
    "    for j in range(len(k)):\n",
    "        ctype.append(k[j])\n",
    "        employees.append(k[j + 1])\n",
    "        hq.append(k[j + 2])\n",
    "        old.append(k[j + 3])\n",
    "        break\n",
    "    "
   ]
  },
  {
   "cell_type": "code",
   "execution_count": 18,
   "id": "fe8e8408",
   "metadata": {
    "execution": {
     "iopub.execute_input": "2023-11-23T21:11:01.042262Z",
     "iopub.status.busy": "2023-11-23T21:11:01.041921Z",
     "iopub.status.idle": "2023-11-23T21:11:01.047917Z",
     "shell.execute_reply": "2023-11-23T21:11:01.047008Z"
    },
    "papermill": {
     "duration": 0.016323,
     "end_time": "2023-11-23T21:11:01.049676",
     "exception": false,
     "start_time": "2023-11-23T21:11:01.033353",
     "status": "completed"
    },
    "tags": []
   },
   "outputs": [
    {
     "data": {
      "text/plain": [
       "[]"
      ]
     },
     "execution_count": 18,
     "metadata": {},
     "output_type": "execute_result"
    }
   ],
   "source": [
    "ctype"
   ]
  },
  {
   "cell_type": "code",
   "execution_count": 19,
   "id": "4de41786",
   "metadata": {
    "execution": {
     "iopub.execute_input": "2023-11-23T21:11:01.066024Z",
     "iopub.status.busy": "2023-11-23T21:11:01.065632Z",
     "iopub.status.idle": "2023-11-23T21:11:01.071591Z",
     "shell.execute_reply": "2023-11-23T21:11:01.070548Z"
    },
    "papermill": {
     "duration": 0.016684,
     "end_time": "2023-11-23T21:11:01.073892",
     "exception": false,
     "start_time": "2023-11-23T21:11:01.057208",
     "status": "completed"
    },
    "tags": []
   },
   "outputs": [
    {
     "data": {
      "text/plain": [
       "[]"
      ]
     },
     "execution_count": 19,
     "metadata": {},
     "output_type": "execute_result"
    }
   ],
   "source": [
    "old"
   ]
  },
  {
   "cell_type": "code",
   "execution_count": 20,
   "id": "e0f5538a",
   "metadata": {
    "execution": {
     "iopub.execute_input": "2023-11-23T21:11:01.089176Z",
     "iopub.status.busy": "2023-11-23T21:11:01.088354Z",
     "iopub.status.idle": "2023-11-23T21:11:01.095535Z",
     "shell.execute_reply": "2023-11-23T21:11:01.094788Z"
    },
    "papermill": {
     "duration": 0.016655,
     "end_time": "2023-11-23T21:11:01.097371",
     "exception": false,
     "start_time": "2023-11-23T21:11:01.080716",
     "status": "completed"
    },
    "tags": []
   },
   "outputs": [],
   "source": [
    "d = {'names' : names, 'ratings' : ratings, 'reviews' : reviews, 'ctype' : ctype, 'employees' : employees, 'hq' : hq, 'old' : old}\n",
    "\n",
    "df1 = pd.DataFrame(d)"
   ]
  },
  {
   "cell_type": "code",
   "execution_count": 21,
   "id": "ebd2704b",
   "metadata": {
    "execution": {
     "iopub.execute_input": "2023-11-23T21:11:01.113419Z",
     "iopub.status.busy": "2023-11-23T21:11:01.112411Z",
     "iopub.status.idle": "2023-11-23T21:11:01.129909Z",
     "shell.execute_reply": "2023-11-23T21:11:01.128483Z"
    },
    "papermill": {
     "duration": 0.027955,
     "end_time": "2023-11-23T21:11:01.132260",
     "exception": false,
     "start_time": "2023-11-23T21:11:01.104305",
     "status": "completed"
    },
    "tags": []
   },
   "outputs": [
    {
     "data": {
      "text/html": [
       "<div>\n",
       "<style scoped>\n",
       "    .dataframe tbody tr th:only-of-type {\n",
       "        vertical-align: middle;\n",
       "    }\n",
       "\n",
       "    .dataframe tbody tr th {\n",
       "        vertical-align: top;\n",
       "    }\n",
       "\n",
       "    .dataframe thead th {\n",
       "        text-align: right;\n",
       "    }\n",
       "</style>\n",
       "<table border=\"1\" class=\"dataframe\">\n",
       "  <thead>\n",
       "    <tr style=\"text-align: right;\">\n",
       "      <th></th>\n",
       "      <th>names</th>\n",
       "      <th>ratings</th>\n",
       "      <th>reviews</th>\n",
       "      <th>ctype</th>\n",
       "      <th>employees</th>\n",
       "      <th>hq</th>\n",
       "      <th>old</th>\n",
       "    </tr>\n",
       "  </thead>\n",
       "  <tbody>\n",
       "  </tbody>\n",
       "</table>\n",
       "</div>"
      ],
      "text/plain": [
       "Empty DataFrame\n",
       "Columns: [names, ratings, reviews, ctype, employees, hq, old]\n",
       "Index: []"
      ]
     },
     "execution_count": 21,
     "metadata": {},
     "output_type": "execute_result"
    }
   ],
   "source": [
    "df1.head()"
   ]
  },
  {
   "cell_type": "code",
   "execution_count": 22,
   "id": "111c15d0",
   "metadata": {
    "execution": {
     "iopub.execute_input": "2023-11-23T21:11:01.147495Z",
     "iopub.status.busy": "2023-11-23T21:11:01.147143Z",
     "iopub.status.idle": "2023-11-23T21:11:01.156877Z",
     "shell.execute_reply": "2023-11-23T21:11:01.155231Z"
    },
    "papermill": {
     "duration": 0.020358,
     "end_time": "2023-11-23T21:11:01.159438",
     "exception": false,
     "start_time": "2023-11-23T21:11:01.139080",
     "status": "completed"
    },
    "tags": []
   },
   "outputs": [
    {
     "data": {
      "text/html": [
       "<div>\n",
       "<style scoped>\n",
       "    .dataframe tbody tr th:only-of-type {\n",
       "        vertical-align: middle;\n",
       "    }\n",
       "\n",
       "    .dataframe tbody tr th {\n",
       "        vertical-align: top;\n",
       "    }\n",
       "\n",
       "    .dataframe thead th {\n",
       "        text-align: right;\n",
       "    }\n",
       "</style>\n",
       "<table border=\"1\" class=\"dataframe\">\n",
       "  <thead>\n",
       "    <tr style=\"text-align: right;\">\n",
       "      <th></th>\n",
       "      <th>names</th>\n",
       "      <th>ratings</th>\n",
       "      <th>reviews</th>\n",
       "      <th>ctype</th>\n",
       "      <th>employees</th>\n",
       "      <th>hq</th>\n",
       "      <th>old</th>\n",
       "    </tr>\n",
       "  </thead>\n",
       "  <tbody>\n",
       "  </tbody>\n",
       "</table>\n",
       "</div>"
      ],
      "text/plain": [
       "Empty DataFrame\n",
       "Columns: [names, ratings, reviews, ctype, employees, hq, old]\n",
       "Index: []"
      ]
     },
     "execution_count": 22,
     "metadata": {},
     "output_type": "execute_result"
    }
   ],
   "source": [
    "df1"
   ]
  },
  {
   "cell_type": "code",
   "execution_count": 23,
   "id": "53afa47f",
   "metadata": {
    "execution": {
     "iopub.execute_input": "2023-11-23T21:11:01.175187Z",
     "iopub.status.busy": "2023-11-23T21:11:01.174838Z",
     "iopub.status.idle": "2023-11-23T21:11:01.585979Z",
     "shell.execute_reply": "2023-11-23T21:11:01.585166Z"
    },
    "papermill": {
     "duration": 0.421432,
     "end_time": "2023-11-23T21:11:01.588112",
     "exception": false,
     "start_time": "2023-11-23T21:11:01.166680",
     "status": "completed"
    },
    "tags": []
   },
   "outputs": [],
   "source": [
    "final_df = pd.DataFrame()\n",
    "\n",
    "for j in range(1, 11):\n",
    "    url = f\"https://www.ambitionbox.com/list-of-companies?campaign=desktop_nav&page={j}\"\n",
    "    headers = {\"User-Agent\": \"Mozilla/5.0 (Windows NT 10.0; Win64; x64) AppleWebKit/537.36 (KHTML, like Gecko) Chrome/91.0.4472.124 Safari/537.36\"}\n",
    "    webpage = requests.get(url, headers = headers).text\n",
    "    \n",
    "    soup = BeautifulSoup(webpage, 'lxml')\n",
    "    \n",
    "    names = []\n",
    "    ratings = []\n",
    "    reviews = []\n",
    "\n",
    "    ctype = []\n",
    "    employees = []\n",
    "    hq = []\n",
    "    old = []\n",
    "\n",
    "\n",
    "    for i in company:\n",
    "        names.append(i.find('h2', class_ = 'companyCardWrapper__companyName').text.strip())\n",
    "        ratings.append(i.find('span', class_ = 'companyCardWrapper__companyRatingValue').text.strip())\n",
    "        reviews.append(i.find('span', class_ = 'companyCardWrapper__ActionCount').text.strip())\n",
    "        k = i.find('span', class_ = 'companyCardWrapper__interLinking').text.strip().split(' | ')\n",
    "        for j in range(len(k)):\n",
    "            ctype.append(k[j])\n",
    "            employees.append(k[j + 1])\n",
    "            hq.append(k[j + 2])\n",
    "            old.append(k[j + 3])\n",
    "            break\n",
    "    \n",
    "    d = {'names' : names, 'ratings' : ratings, 'reviews' : reviews, 'ctype' : ctype, 'employees' : employees, 'hq' : hq, 'old' : old}\n",
    "\n",
    "    df = pd.DataFrame(d)\n",
    "    \n",
    "    final_df = pd.concat([final_df, df], axis = 0, ignore_index = True)\n"
   ]
  },
  {
   "cell_type": "code",
   "execution_count": 24,
   "id": "5ff8da74",
   "metadata": {
    "execution": {
     "iopub.execute_input": "2023-11-23T21:11:01.603629Z",
     "iopub.status.busy": "2023-11-23T21:11:01.603280Z",
     "iopub.status.idle": "2023-11-23T21:11:01.612665Z",
     "shell.execute_reply": "2023-11-23T21:11:01.611782Z"
    },
    "papermill": {
     "duration": 0.019768,
     "end_time": "2023-11-23T21:11:01.614800",
     "exception": false,
     "start_time": "2023-11-23T21:11:01.595032",
     "status": "completed"
    },
    "tags": []
   },
   "outputs": [
    {
     "data": {
      "text/html": [
       "<div>\n",
       "<style scoped>\n",
       "    .dataframe tbody tr th:only-of-type {\n",
       "        vertical-align: middle;\n",
       "    }\n",
       "\n",
       "    .dataframe tbody tr th {\n",
       "        vertical-align: top;\n",
       "    }\n",
       "\n",
       "    .dataframe thead th {\n",
       "        text-align: right;\n",
       "    }\n",
       "</style>\n",
       "<table border=\"1\" class=\"dataframe\">\n",
       "  <thead>\n",
       "    <tr style=\"text-align: right;\">\n",
       "      <th></th>\n",
       "      <th>names</th>\n",
       "      <th>ratings</th>\n",
       "      <th>reviews</th>\n",
       "      <th>ctype</th>\n",
       "      <th>employees</th>\n",
       "      <th>hq</th>\n",
       "      <th>old</th>\n",
       "    </tr>\n",
       "  </thead>\n",
       "  <tbody>\n",
       "  </tbody>\n",
       "</table>\n",
       "</div>"
      ],
      "text/plain": [
       "Empty DataFrame\n",
       "Columns: [names, ratings, reviews, ctype, employees, hq, old]\n",
       "Index: []"
      ]
     },
     "execution_count": 24,
     "metadata": {},
     "output_type": "execute_result"
    }
   ],
   "source": [
    "final_df"
   ]
  },
  {
   "cell_type": "code",
   "execution_count": 25,
   "id": "5154da0b",
   "metadata": {
    "execution": {
     "iopub.execute_input": "2023-11-23T21:11:01.631714Z",
     "iopub.status.busy": "2023-11-23T21:11:01.630508Z",
     "iopub.status.idle": "2023-11-23T21:11:01.640114Z",
     "shell.execute_reply": "2023-11-23T21:11:01.638814Z"
    },
    "papermill": {
     "duration": 0.020765,
     "end_time": "2023-11-23T21:11:01.642668",
     "exception": false,
     "start_time": "2023-11-23T21:11:01.621903",
     "status": "completed"
    },
    "tags": []
   },
   "outputs": [],
   "source": [
    "final_df.to_csv('Jobs List with details.csv', index = False)"
   ]
  },
  {
   "cell_type": "code",
   "execution_count": null,
   "id": "064b9f96",
   "metadata": {
    "papermill": {
     "duration": 0.007149,
     "end_time": "2023-11-23T21:11:01.657684",
     "exception": false,
     "start_time": "2023-11-23T21:11:01.650535",
     "status": "completed"
    },
    "tags": []
   },
   "outputs": [],
   "source": []
  }
 ],
 "metadata": {
  "kaggle": {
   "accelerator": "none",
   "dataSources": [],
   "dockerImageVersionId": 30587,
   "isGpuEnabled": false,
   "isInternetEnabled": true,
   "language": "python",
   "sourceType": "notebook"
  },
  "kernelspec": {
   "display_name": "Python 3",
   "language": "python",
   "name": "python3"
  },
  "language_info": {
   "codemirror_mode": {
    "name": "ipython",
    "version": 3
   },
   "file_extension": ".py",
   "mimetype": "text/x-python",
   "name": "python",
   "nbconvert_exporter": "python",
   "pygments_lexer": "ipython3",
   "version": "3.10.12"
  },
  "papermill": {
   "default_parameters": {},
   "duration": 17.619038,
   "end_time": "2023-11-23T21:11:02.087015",
   "environment_variables": {},
   "exception": null,
   "input_path": "__notebook__.ipynb",
   "output_path": "__notebook__.ipynb",
   "parameters": {},
   "start_time": "2023-11-23T21:10:44.467977",
   "version": "2.4.0"
  }
 },
 "nbformat": 4,
 "nbformat_minor": 5
}
